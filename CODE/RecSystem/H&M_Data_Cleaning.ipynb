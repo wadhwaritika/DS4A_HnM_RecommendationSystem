{
 "cells": [
  {
   "cell_type": "markdown",
   "id": "b2403e89",
   "metadata": {},
   "source": [
    "## HM data cleaning"
   ]
  },
  {
   "cell_type": "markdown",
   "id": "Zf-8tnAdmnjl",
   "metadata": {
    "id": "Zf-8tnAdmnjl"
   },
   "source": [
    "### Helper Functioins\n",
    "1. Aim to reduce the training data memory and could possibily achieve 16x memory reduction\n",
    "2. Many people store the article_id as a string to keep the leading zero. However a string of length 10 uses 10 bytes. It is better to convert this column to int32 which only uses 4 bytes. Then do all your processing, i.e. train.groupby('article_id') etc etc. Then before writing submission, just convert it back to string with zero"
   ]
  },
  {
   "cell_type": "code",
   "execution_count": 39,
   "id": "70489d42",
   "metadata": {},
   "outputs": [],
   "source": [
    "from tqdm import tqdm"
   ]
  },
  {
   "cell_type": "code",
   "execution_count": 11,
   "id": "5d3ac989",
   "metadata": {
    "execution": {
     "iopub.execute_input": "2022-04-16T12:21:45.085871Z",
     "iopub.status.busy": "2022-04-16T12:21:45.085543Z",
     "iopub.status.idle": "2022-04-16T12:21:46.348125Z",
     "shell.execute_reply": "2022-04-16T12:21:46.346972Z"
    },
    "id": "5d3ac989",
    "papermill": {
     "duration": 1.295417,
     "end_time": "2022-04-16T12:21:46.350790",
     "exception": false,
     "start_time": "2022-04-16T12:21:45.055373",
     "status": "completed"
    },
    "tags": []
   },
   "outputs": [],
   "source": [
    "# helper functions\n",
    "from sklearn.base import BaseEstimator, TransformerMixin\n",
    "import numpy as np\n",
    "#from average_precision import apk\n",
    "\n",
    "# https://www.kaggle.com/c/h-and-m-personalized-fashion-recommendations/discussion/308635\n",
    "def customer_hex_id_to_int(series):\n",
    "    return series.str[-16:].apply(hex_id_to_int)\n",
    "\n",
    "def hex_id_to_int(str):\n",
    "    # convert the id from str to id\n",
    "    return int(str[-16:], 16)\n",
    "\n",
    "def article_id_str_to_int(series):\n",
    "    return series.astype('int32')\n",
    "\n",
    "def article_id_int_to_str(series):\n",
    "    return '0' + series.astype('str')\n",
    "\n",
    "class Categorize(BaseEstimator, TransformerMixin):\n",
    "    def __init__(self, min_examples=0):\n",
    "        self.min_examples = min_examples\n",
    "        self.categories = []\n",
    "        \n",
    "    def fit(self, X):\n",
    "        for i in range(X.shape[1]):\n",
    "            vc = X.iloc[:, i].value_counts()\n",
    "            self.categories.append(vc[vc > self.min_examples].index.tolist())\n",
    "        return self\n",
    "\n",
    "    def transform(self, X):\n",
    "        data = {X.columns[i]: pd.Categorical(X.iloc[:, i], categories=self.categories[i]).codes for i in range(X.shape[1])}\n",
    "        return pd.DataFrame(data=data)"
   ]
  },
  {
   "cell_type": "markdown",
   "id": "14db50ed",
   "metadata": {
    "id": "14db50ed",
    "papermill": {
     "duration": 0.027523,
     "end_time": "2022-04-16T12:21:46.406766",
     "exception": false,
     "start_time": "2022-04-16T12:21:46.379243",
     "status": "completed"
    },
    "tags": []
   },
   "source": [
    "We want this to be fast. I can get as much RAM as I will ever need through VMs on GCP, but that is not the point. I want to see how far I can push my local hardware, but this goes even beyond that.\n",
    "\n",
    "I need the speed to make a good use of my time as I continue to build my understanding of what RecSys models are about. And the path to this leads through making the data I will work on smaller."
   ]
  },
  {
   "cell_type": "markdown",
   "id": "0c54c14e",
   "metadata": {},
   "source": [
    "### Import Data "
   ]
  },
  {
   "cell_type": "code",
   "execution_count": 12,
   "id": "94cd3410",
   "metadata": {
    "colab": {
     "base_uri": "https://localhost:8080/"
    },
    "execution": {
     "iopub.execute_input": "2022-04-16T12:21:46.465160Z",
     "iopub.status.busy": "2022-04-16T12:21:46.464430Z",
     "iopub.status.idle": "2022-04-16T12:23:12.354179Z",
     "shell.execute_reply": "2022-04-16T12:23:12.353108Z"
    },
    "executionInfo": {
     "elapsed": 67807,
     "status": "ok",
     "timestamp": 1658194818826,
     "user": {
      "displayName": "Zhihui Zhang",
      "userId": "18121328016239407453"
     },
     "user_tz": 240
    },
    "id": "94cd3410",
    "outputId": "8b1c5502-a9df-4a7c-e696-29b88ae2f598",
    "papermill": {
     "duration": 85.951549,
     "end_time": "2022-04-16T12:23:12.386361",
     "exception": false,
     "start_time": "2022-04-16T12:21:46.434812",
     "status": "completed"
    },
    "tags": []
   },
   "outputs": [
    {
     "name": "stdout",
     "output_type": "stream",
     "text": [
      "CPU times: user 26.9 s, sys: 4.71 s, total: 31.6 s\n",
      "Wall time: 36.7 s\n"
     ]
    }
   ],
   "source": [
    "%%time\n",
    "import pandas as pd\n",
    "\n",
    "transactions = pd.read_csv('transactions_train.csv', dtype={\"article_id\": \"str\"})\n",
    "customers = pd.read_csv('customers.csv')\n",
    "articles = pd.read_csv('articles.csv', dtype={\"article_id\": \"str\"})"
   ]
  },
  {
   "cell_type": "markdown",
   "id": "gVKxjvmOpMLy",
   "metadata": {
    "id": "gVKxjvmOpMLy"
   },
   "source": [
    "### Data conversion to save more memeory"
   ]
  },
  {
   "cell_type": "markdown",
   "id": "48f8ac90",
   "metadata": {},
   "source": [
    "#### Transactions\n",
    "1. article_id:  a string of length 10 uses 10 bytes. It is better to convert this column to int32 which only uses 4 bytes. Before writing a submission, just convert it back to string with zeroes\n",
    "2. customer_id: convert string to int64\n",
    "3. t_date: reformat to datetime ‘%Y-%m-%d’ \n",
    "4. sales_channel_id: convert to int8\n",
    "5. prices: convert to float32\n",
    "6. week: new column which is calculated from t_date, stored as int8\n"
   ]
  },
  {
   "cell_type": "code",
   "execution_count": 13,
   "id": "aa75de3a",
   "metadata": {
    "colab": {
     "base_uri": "https://localhost:8080/"
    },
    "execution": {
     "iopub.execute_input": "2022-04-16T12:23:12.446370Z",
     "iopub.status.busy": "2022-04-16T12:23:12.446032Z",
     "iopub.status.idle": "2022-04-16T12:23:31.861511Z",
     "shell.execute_reply": "2022-04-16T12:23:31.860613Z"
    },
    "executionInfo": {
     "elapsed": 8837,
     "status": "ok",
     "timestamp": 1658194837110,
     "user": {
      "displayName": "Zhihui Zhang",
      "userId": "18121328016239407453"
     },
     "user_tz": 240
    },
    "id": "aa75de3a",
    "outputId": "20ef14eb-2062-494d-f74e-031dfbb8b538",
    "papermill": {
     "duration": 19.449107,
     "end_time": "2022-04-16T12:23:31.864280",
     "exception": false,
     "start_time": "2022-04-16T12:23:12.415173",
     "status": "completed"
    },
    "tags": []
   },
   "outputs": [
    {
     "data": {
      "text/plain": [
       "Index                      128\n",
       "t_dat               2129817708\n",
       "customer_id         3846387204\n",
       "article_id          2129817708\n",
       "price                254306592\n",
       "sales_channel_id     254306592\n",
       "dtype: int64"
      ]
     },
     "execution_count": 13,
     "metadata": {},
     "output_type": "execute_result"
    }
   ],
   "source": [
    "transactions.memory_usage(deep=True)"
   ]
  },
  {
   "cell_type": "code",
   "execution_count": 14,
   "id": "bf0b35ed",
   "metadata": {
    "colab": {
     "base_uri": "https://localhost:8080/"
    },
    "execution": {
     "iopub.execute_input": "2022-04-16T12:23:31.929123Z",
     "iopub.status.busy": "2022-04-16T12:23:31.928828Z",
     "iopub.status.idle": "2022-04-16T12:23:51.384406Z",
     "shell.execute_reply": "2022-04-16T12:23:51.383683Z"
    },
    "executionInfo": {
     "elapsed": 8859,
     "status": "ok",
     "timestamp": 1658194847498,
     "user": {
      "displayName": "Zhihui Zhang",
      "userId": "18121328016239407453"
     },
     "user_tz": 240
    },
    "id": "bf0b35ed",
    "outputId": "b77ce14b-7d69-4261-cc5b-4564229c36e9",
    "papermill": {
     "duration": 19.492518,
     "end_time": "2022-04-16T12:23:51.386834",
     "exception": false,
     "start_time": "2022-04-16T12:23:31.894316",
     "status": "completed"
    },
    "tags": []
   },
   "outputs": [
    {
     "name": "stdout",
     "output_type": "stream",
     "text": [
      "<class 'pandas.core.frame.DataFrame'>\n",
      "RangeIndex: 31788324 entries, 0 to 31788323\n",
      "Data columns (total 5 columns):\n",
      " #   Column            Dtype  \n",
      "---  ------            -----  \n",
      " 0   t_dat             object \n",
      " 1   customer_id       object \n",
      " 2   article_id        object \n",
      " 3   price             float64\n",
      " 4   sales_channel_id  int64  \n",
      "dtypes: float64(1), int64(1), object(3)\n",
      "memory usage: 8.0 GB\n"
     ]
    }
   ],
   "source": [
    "transactions.info(memory_usage='deep')"
   ]
  },
  {
   "cell_type": "code",
   "execution_count": 15,
   "id": "4d85685a",
   "metadata": {
    "colab": {
     "base_uri": "https://localhost:8080/"
    },
    "execution": {
     "iopub.execute_input": "2022-04-16T12:23:51.450425Z",
     "iopub.status.busy": "2022-04-16T12:23:51.449848Z",
     "iopub.status.idle": "2022-04-16T12:24:00.769638Z",
     "shell.execute_reply": "2022-04-16T12:24:00.768460Z"
    },
    "executionInfo": {
     "elapsed": 9970,
     "status": "ok",
     "timestamp": 1658194859498,
     "user": {
      "displayName": "Zhihui Zhang",
      "userId": "18121328016239407453"
     },
     "user_tz": 240
    },
    "id": "4d85685a",
    "outputId": "93688dbd-428b-4461-c1ca-8ffbf08c33a0",
    "papermill": {
     "duration": 9.354909,
     "end_time": "2022-04-16T12:24:00.772070",
     "exception": false,
     "start_time": "2022-04-16T12:23:51.417161",
     "status": "completed"
    },
    "tags": []
   },
   "outputs": [
    {
     "name": "stdout",
     "output_type": "stream",
     "text": [
      "CPU times: user 6.77 s, sys: 646 ms, total: 7.41 s\n",
      "Wall time: 7.88 s\n"
     ]
    },
    {
     "data": {
      "text/plain": [
       "1362281"
      ]
     },
     "execution_count": 15,
     "metadata": {},
     "output_type": "execute_result"
    }
   ],
   "source": [
    "%%time\n",
    "transactions['customer_id'].nunique()"
   ]
  },
  {
   "cell_type": "code",
   "execution_count": 16,
   "id": "b0ef4c75",
   "metadata": {
    "colab": {
     "base_uri": "https://localhost:8080/"
    },
    "execution": {
     "iopub.execute_input": "2022-04-16T12:24:00.841510Z",
     "iopub.status.busy": "2022-04-16T12:24:00.840756Z",
     "iopub.status.idle": "2022-04-16T12:24:54.474494Z",
     "shell.execute_reply": "2022-04-16T12:24:54.473372Z"
    },
    "executionInfo": {
     "elapsed": 31691,
     "status": "ok",
     "timestamp": 1658194892813,
     "user": {
      "displayName": "Zhihui Zhang",
      "userId": "18121328016239407453"
     },
     "user_tz": 240
    },
    "id": "b0ef4c75",
    "outputId": "d03225f7-5f99-4e2c-ba7f-6aed703fae8a",
    "papermill": {
     "duration": 53.703531,
     "end_time": "2022-04-16T12:24:54.509683",
     "exception": false,
     "start_time": "2022-04-16T12:24:00.806152",
     "status": "completed"
    },
    "tags": []
   },
   "outputs": [
    {
     "name": "stdout",
     "output_type": "stream",
     "text": [
      "CPU times: user 21.4 s, sys: 7.61 s, total: 29 s\n",
      "Wall time: 38.3 s\n"
     ]
    },
    {
     "data": {
      "text/plain": [
       "1362281"
      ]
     },
     "execution_count": 16,
     "metadata": {},
     "output_type": "execute_result"
    }
   ],
   "source": [
    "%%time\n",
    "# if we convert the id from string to int we will saved 50% of memory\n",
    "transactions['customer_id'] = customer_hex_id_to_int(transactions['customer_id'])\n",
    "transactions['customer_id'].nunique()"
   ]
  },
  {
   "cell_type": "code",
   "execution_count": 17,
   "id": "3733aeb2",
   "metadata": {
    "colab": {
     "base_uri": "https://localhost:8080/"
    },
    "execution": {
     "iopub.execute_input": "2022-04-16T12:24:54.576338Z",
     "iopub.status.busy": "2022-04-16T12:24:54.575637Z",
     "iopub.status.idle": "2022-04-16T12:25:07.210187Z",
     "shell.execute_reply": "2022-04-16T12:25:07.209077Z"
    },
    "executionInfo": {
     "elapsed": 3532,
     "status": "ok",
     "timestamp": 1658194904058,
     "user": {
      "displayName": "Zhihui Zhang",
      "userId": "18121328016239407453"
     },
     "user_tz": 240
    },
    "id": "3733aeb2",
    "outputId": "35adda1d-254a-412e-84a2-cee7e15147cf",
    "papermill": {
     "duration": 12.670617,
     "end_time": "2022-04-16T12:25:07.212741",
     "exception": false,
     "start_time": "2022-04-16T12:24:54.542124",
     "status": "completed"
    },
    "tags": []
   },
   "outputs": [
    {
     "data": {
      "text/plain": [
       "Index                      128\n",
       "t_dat               2129817708\n",
       "customer_id          254306592\n",
       "article_id          2129817708\n",
       "price                254306592\n",
       "sales_channel_id     254306592\n",
       "dtype: int64"
      ]
     },
     "execution_count": 17,
     "metadata": {},
     "output_type": "execute_result"
    }
   ],
   "source": [
    "transactions.memory_usage(deep=True)"
   ]
  },
  {
   "cell_type": "code",
   "execution_count": 18,
   "id": "fe293c79",
   "metadata": {
    "colab": {
     "base_uri": "https://localhost:8080/"
    },
    "execution": {
     "iopub.execute_input": "2022-04-16T12:25:07.279369Z",
     "iopub.status.busy": "2022-04-16T12:25:07.278514Z",
     "iopub.status.idle": "2022-04-16T12:25:20.029851Z",
     "shell.execute_reply": "2022-04-16T12:25:20.028904Z"
    },
    "executionInfo": {
     "elapsed": 5310,
     "status": "ok",
     "timestamp": 1658194909363,
     "user": {
      "displayName": "Zhihui Zhang",
      "userId": "18121328016239407453"
     },
     "user_tz": 240
    },
    "id": "fe293c79",
    "outputId": "b4340e0b-6273-4684-c417-1bc4a81ab9f7",
    "papermill": {
     "duration": 12.788923,
     "end_time": "2022-04-16T12:25:20.033879",
     "exception": false,
     "start_time": "2022-04-16T12:25:07.244956",
     "status": "completed"
    },
    "tags": []
   },
   "outputs": [
    {
     "name": "stdout",
     "output_type": "stream",
     "text": [
      "<class 'pandas.core.frame.DataFrame'>\n",
      "RangeIndex: 31788324 entries, 0 to 31788323\n",
      "Data columns (total 5 columns):\n",
      " #   Column            Dtype  \n",
      "---  ------            -----  \n",
      " 0   t_dat             object \n",
      " 1   customer_id       uint64 \n",
      " 2   article_id        object \n",
      " 3   price             float64\n",
      " 4   sales_channel_id  int64  \n",
      "dtypes: float64(1), int64(1), object(2), uint64(1)\n",
      "memory usage: 4.7 GB\n"
     ]
    }
   ],
   "source": [
    "transactions.info(memory_usage='deep')"
   ]
  },
  {
   "cell_type": "code",
   "execution_count": 19,
   "id": "0d9a0cca",
   "metadata": {
    "colab": {
     "base_uri": "https://localhost:8080/"
    },
    "execution": {
     "iopub.execute_input": "2022-04-16T12:25:20.171735Z",
     "iopub.status.busy": "2022-04-16T12:25:20.171153Z",
     "iopub.status.idle": "2022-04-16T12:25:26.524751Z",
     "shell.execute_reply": "2022-04-16T12:25:26.524062Z"
    },
    "executionInfo": {
     "elapsed": 4780,
     "status": "ok",
     "timestamp": 1658194920454,
     "user": {
      "displayName": "Zhihui Zhang",
      "userId": "18121328016239407453"
     },
     "user_tz": 240
    },
    "id": "0d9a0cca",
    "outputId": "42e2ab0c-f900-4e8c-b3ae-740b887eab4a",
    "papermill": {
     "duration": 6.39158,
     "end_time": "2022-04-16T12:25:26.527804",
     "exception": false,
     "start_time": "2022-04-16T12:25:20.136224",
     "status": "completed"
    },
    "tags": []
   },
   "outputs": [
    {
     "name": "stdout",
     "output_type": "stream",
     "text": [
      "CPU times: user 2.81 s, sys: 359 ms, total: 3.17 s\n",
      "Wall time: 3.19 s\n"
     ]
    }
   ],
   "source": [
    "%%time\n",
    "\n",
    "transactions.t_dat = pd.to_datetime(transactions.t_dat, format='%Y-%m-%d')"
   ]
  },
  {
   "cell_type": "code",
   "execution_count": 20,
   "id": "2bfae010",
   "metadata": {
    "execution": {
     "iopub.execute_input": "2022-04-16T12:25:26.605974Z",
     "iopub.status.busy": "2022-04-16T12:25:26.605381Z",
     "iopub.status.idle": "2022-04-16T12:25:28.066515Z",
     "shell.execute_reply": "2022-04-16T12:25:28.065553Z"
    },
    "id": "2bfae010",
    "papermill": {
     "duration": 1.503904,
     "end_time": "2022-04-16T12:25:28.069411",
     "exception": false,
     "start_time": "2022-04-16T12:25:26.565507",
     "status": "completed"
    },
    "tags": []
   },
   "outputs": [],
   "source": [
    "transactions['week'] = 104 - (transactions.t_dat.max() - transactions.t_dat).dt.days // 7"
   ]
  },
  {
   "cell_type": "code",
   "execution_count": 21,
   "id": "90457b8f",
   "metadata": {
    "colab": {
     "base_uri": "https://localhost:8080/"
    },
    "execution": {
     "iopub.execute_input": "2022-04-16T12:25:28.139678Z",
     "iopub.status.busy": "2022-04-16T12:25:28.139315Z",
     "iopub.status.idle": "2022-04-16T12:25:34.557066Z",
     "shell.execute_reply": "2022-04-16T12:25:34.555802Z"
    },
    "executionInfo": {
     "elapsed": 4866,
     "status": "ok",
     "timestamp": 1658194954500,
     "user": {
      "displayName": "Zhihui Zhang",
      "userId": "18121328016239407453"
     },
     "user_tz": 240
    },
    "id": "90457b8f",
    "outputId": "4e04b3db-2576-4e11-ba73-a019ab188cad",
    "papermill": {
     "duration": 6.45566,
     "end_time": "2022-04-16T12:25:34.559455",
     "exception": false,
     "start_time": "2022-04-16T12:25:28.103795",
     "status": "completed"
    },
    "tags": []
   },
   "outputs": [
    {
     "name": "stdout",
     "output_type": "stream",
     "text": [
      "<class 'pandas.core.frame.DataFrame'>\n",
      "RangeIndex: 31788324 entries, 0 to 31788323\n",
      "Data columns (total 6 columns):\n",
      " #   Column            Dtype         \n",
      "---  ------            -----         \n",
      " 0   t_dat             datetime64[ns]\n",
      " 1   customer_id       uint64        \n",
      " 2   article_id        object        \n",
      " 3   price             float64       \n",
      " 4   sales_channel_id  int64         \n",
      " 5   week              int64         \n",
      "dtypes: datetime64[ns](1), float64(1), int64(2), object(1), uint64(1)\n",
      "memory usage: 3.2 GB\n"
     ]
    }
   ],
   "source": [
    "transactions.info(memory_usage='deep')"
   ]
  },
  {
   "cell_type": "markdown",
   "id": "b094879d",
   "metadata": {
    "id": "b094879d",
    "papermill": {
     "duration": 0.033748,
     "end_time": "2022-04-16T12:25:34.627205",
     "exception": false,
     "start_time": "2022-04-16T12:25:34.593457",
     "status": "completed"
    },
    "tags": []
   },
   "source": [
    "Let's do something about the `article_id` (both here and on `articles`) and let's take a closer look at `price`, `sales_channel_id` and `week`."
   ]
  },
  {
   "cell_type": "code",
   "execution_count": 22,
   "id": "7390ff52",
   "metadata": {
    "execution": {
     "iopub.execute_input": "2022-04-16T12:25:34.696599Z",
     "iopub.status.busy": "2022-04-16T12:25:34.696066Z",
     "iopub.status.idle": "2022-04-16T12:25:40.759997Z",
     "shell.execute_reply": "2022-04-16T12:25:40.758946Z"
    },
    "id": "7390ff52",
    "papermill": {
     "duration": 6.102098,
     "end_time": "2022-04-16T12:25:40.762835",
     "exception": false,
     "start_time": "2022-04-16T12:25:34.660737",
     "status": "completed"
    },
    "tags": []
   },
   "outputs": [],
   "source": [
    "transactions.article_id = article_id_str_to_int(transactions.article_id)\n",
    "articles.article_id = article_id_str_to_int(articles.article_id)\n",
    "\n",
    "transactions.week = transactions.week.astype('int8')\n",
    "transactions.sales_channel_id = transactions.sales_channel_id.astype('int8')\n",
    "transactions.price = transactions.price.astype('float32')"
   ]
  },
  {
   "cell_type": "code",
   "execution_count": 23,
   "id": "4c28d40b",
   "metadata": {
    "colab": {
     "base_uri": "https://localhost:8080/"
    },
    "execution": {
     "iopub.execute_input": "2022-04-16T12:25:40.833261Z",
     "iopub.status.busy": "2022-04-16T12:25:40.832979Z",
     "iopub.status.idle": "2022-04-16T12:25:40.841369Z",
     "shell.execute_reply": "2022-04-16T12:25:40.840531Z"
    },
    "executionInfo": {
     "elapsed": 8,
     "status": "ok",
     "timestamp": 1658194959571,
     "user": {
      "displayName": "Zhihui Zhang",
      "userId": "18121328016239407453"
     },
     "user_tz": 240
    },
    "id": "4c28d40b",
    "outputId": "b128aef2-a896-4b7a-f5db-72d0246d361b",
    "papermill": {
     "duration": 0.047449,
     "end_time": "2022-04-16T12:25:40.844707",
     "exception": false,
     "start_time": "2022-04-16T12:25:40.797258",
     "status": "completed"
    },
    "tags": []
   },
   "outputs": [
    {
     "name": "stdout",
     "output_type": "stream",
     "text": [
      "<class 'pandas.core.frame.DataFrame'>\n",
      "RangeIndex: 31788324 entries, 0 to 31788323\n",
      "Data columns (total 6 columns):\n",
      " #   Column            Dtype         \n",
      "---  ------            -----         \n",
      " 0   t_dat             datetime64[ns]\n",
      " 1   customer_id       uint64        \n",
      " 2   article_id        int32         \n",
      " 3   price             float32       \n",
      " 4   sales_channel_id  int8          \n",
      " 5   week              int8          \n",
      "dtypes: datetime64[ns](1), float32(1), int32(1), int8(2), uint64(1)\n",
      "memory usage: 788.2 MB\n"
     ]
    }
   ],
   "source": [
    "transactions.info(memory_usage='deep')"
   ]
  },
  {
   "cell_type": "code",
   "execution_count": 24,
   "id": "10623914",
   "metadata": {
    "colab": {
     "base_uri": "https://localhost:8080/"
    },
    "execution": {
     "iopub.execute_input": "2022-04-16T12:25:40.916545Z",
     "iopub.status.busy": "2022-04-16T12:25:40.916262Z",
     "iopub.status.idle": "2022-04-16T12:25:41.569206Z",
     "shell.execute_reply": "2022-04-16T12:25:41.568334Z"
    },
    "executionInfo": {
     "elapsed": 448,
     "status": "ok",
     "timestamp": 1658194960015,
     "user": {
      "displayName": "Zhihui Zhang",
      "userId": "18121328016239407453"
     },
     "user_tz": 240
    },
    "id": "10623914",
    "outputId": "0705779d-1ee4-4ebc-b612-95749e4a1f5b",
    "papermill": {
     "duration": 0.692114,
     "end_time": "2022-04-16T12:25:41.571685",
     "exception": false,
     "start_time": "2022-04-16T12:25:40.879571",
     "status": "completed"
    },
    "tags": []
   },
   "outputs": [
    {
     "name": "stdout",
     "output_type": "stream",
     "text": [
      "<class 'pandas.core.frame.DataFrame'>\n",
      "RangeIndex: 31788324 entries, 0 to 31788323\n",
      "Data columns (total 5 columns):\n",
      " #   Column            Dtype  \n",
      "---  ------            -----  \n",
      " 0   customer_id       uint64 \n",
      " 1   article_id        int32  \n",
      " 2   price             float32\n",
      " 3   sales_channel_id  int8   \n",
      " 4   week              int8   \n",
      "dtypes: float32(1), int32(1), int8(2), uint64(1)\n",
      "memory usage: 545.7 MB\n"
     ]
    }
   ],
   "source": [
    "transactions.drop(columns='t_dat').info(memory_usage='deep')"
   ]
  },
  {
   "cell_type": "markdown",
   "id": "f874dac4",
   "metadata": {
    "id": "f874dac4",
    "papermill": {
     "duration": 0.035947,
     "end_time": "2022-04-16T12:25:41.643961",
     "exception": false,
     "start_time": "2022-04-16T12:25:41.608014",
     "status": "completed"
    },
    "tags": []
   },
   "source": [
    "#### Customer\n",
    "1. customer_id: convert string to int64\n",
    "2. FN, Active, age: fill NA with -1 and convert to int8\n",
    "3. club_member_status, postal_code, fashion_news_frequency: categorizing data with int8"
   ]
  },
  {
   "cell_type": "code",
   "execution_count": 25,
   "id": "bb06d877",
   "metadata": {
    "colab": {
     "base_uri": "https://localhost:8080/"
    },
    "execution": {
     "iopub.execute_input": "2022-04-16T12:25:41.719302Z",
     "iopub.status.busy": "2022-04-16T12:25:41.718739Z",
     "iopub.status.idle": "2022-04-16T12:25:43.402566Z",
     "shell.execute_reply": "2022-04-16T12:25:43.401914Z"
    },
    "executionInfo": {
     "elapsed": 1064,
     "status": "ok",
     "timestamp": 1658194961074,
     "user": {
      "displayName": "Zhihui Zhang",
      "userId": "18121328016239407453"
     },
     "user_tz": 240
    },
    "id": "bb06d877",
    "outputId": "aeda07ab-988a-4019-bc08-b7c29e536a98",
    "papermill": {
     "duration": 1.725,
     "end_time": "2022-04-16T12:25:43.405407",
     "exception": false,
     "start_time": "2022-04-16T12:25:41.680407",
     "status": "completed"
    },
    "tags": []
   },
   "outputs": [
    {
     "name": "stdout",
     "output_type": "stream",
     "text": [
      "<class 'pandas.core.frame.DataFrame'>\n",
      "RangeIndex: 1371980 entries, 0 to 1371979\n",
      "Data columns (total 7 columns):\n",
      " #   Column                  Non-Null Count    Dtype  \n",
      "---  ------                  --------------    -----  \n",
      " 0   customer_id             1371980 non-null  object \n",
      " 1   FN                      476930 non-null   float64\n",
      " 2   Active                  464404 non-null   float64\n",
      " 3   club_member_status      1365918 non-null  object \n",
      " 4   fashion_news_frequency  1355971 non-null  object \n",
      " 5   age                     1356119 non-null  float64\n",
      " 6   postal_code             1371980 non-null  object \n",
      "dtypes: float64(3), object(4)\n",
      "memory usage: 512.3 MB\n"
     ]
    }
   ],
   "source": [
    "customers.info(memory_usage='deep')"
   ]
  },
  {
   "cell_type": "code",
   "execution_count": 26,
   "id": "55f885f6",
   "metadata": {
    "colab": {
     "base_uri": "https://localhost:8080/"
    },
    "execution": {
     "iopub.execute_input": "2022-04-16T12:25:43.483202Z",
     "iopub.status.busy": "2022-04-16T12:25:43.482653Z",
     "iopub.status.idle": "2022-04-16T12:25:43.964605Z",
     "shell.execute_reply": "2022-04-16T12:25:43.963706Z"
    },
    "executionInfo": {
     "elapsed": 312,
     "status": "ok",
     "timestamp": 1658194965003,
     "user": {
      "displayName": "Zhihui Zhang",
      "userId": "18121328016239407453"
     },
     "user_tz": 240
    },
    "id": "55f885f6",
    "outputId": "6b9b07e4-e2cd-47a9-b5ee-770d170bd230",
    "papermill": {
     "duration": 0.522606,
     "end_time": "2022-04-16T12:25:43.966941",
     "exception": false,
     "start_time": "2022-04-16T12:25:43.444335",
     "status": "completed"
    },
    "tags": []
   },
   "outputs": [
    {
     "name": "stdout",
     "output_type": "stream",
     "text": [
      "<class 'pandas.core.frame.DataFrame'>\n",
      "RangeIndex: 105542 entries, 0 to 105541\n",
      "Data columns (total 25 columns):\n",
      " #   Column                        Non-Null Count   Dtype \n",
      "---  ------                        --------------   ----- \n",
      " 0   article_id                    105542 non-null  int32 \n",
      " 1   product_code                  105542 non-null  int64 \n",
      " 2   prod_name                     105542 non-null  object\n",
      " 3   product_type_no               105542 non-null  int64 \n",
      " 4   product_type_name             105542 non-null  object\n",
      " 5   product_group_name            105542 non-null  object\n",
      " 6   graphical_appearance_no       105542 non-null  int64 \n",
      " 7   graphical_appearance_name     105542 non-null  object\n",
      " 8   colour_group_code             105542 non-null  int64 \n",
      " 9   colour_group_name             105542 non-null  object\n",
      " 10  perceived_colour_value_id     105542 non-null  int64 \n",
      " 11  perceived_colour_value_name   105542 non-null  object\n",
      " 12  perceived_colour_master_id    105542 non-null  int64 \n",
      " 13  perceived_colour_master_name  105542 non-null  object\n",
      " 14  department_no                 105542 non-null  int64 \n",
      " 15  department_name               105542 non-null  object\n",
      " 16  index_code                    105542 non-null  object\n",
      " 17  index_name                    105542 non-null  object\n",
      " 18  index_group_no                105542 non-null  int64 \n",
      " 19  index_group_name              105542 non-null  object\n",
      " 20  section_no                    105542 non-null  int64 \n",
      " 21  section_name                  105542 non-null  object\n",
      " 22  garment_group_no              105542 non-null  int64 \n",
      " 23  garment_group_name            105542 non-null  object\n",
      " 24  detail_desc                   105126 non-null  object\n",
      "dtypes: int32(1), int64(10), object(14)\n",
      "memory usage: 117.2 MB\n"
     ]
    }
   ],
   "source": [
    "articles.info(memory_usage='deep')"
   ]
  },
  {
   "cell_type": "markdown",
   "id": "1caf9c76",
   "metadata": {
    "id": "1caf9c76",
    "papermill": {
     "duration": 0.036642,
     "end_time": "2022-04-16T12:25:44.039792",
     "exception": false,
     "start_time": "2022-04-16T12:25:44.003150",
     "status": "completed"
    },
    "tags": []
   },
   "source": [
    "Well, this stuff will be getting merged with our transactions df at some point, so I guess we can also make this smaller and easier to work with down the road."
   ]
  },
  {
   "cell_type": "code",
   "execution_count": 27,
   "id": "efd82f6e",
   "metadata": {
    "colab": {
     "base_uri": "https://localhost:8080/"
    },
    "execution": {
     "iopub.execute_input": "2022-04-16T12:25:44.114219Z",
     "iopub.status.busy": "2022-04-16T12:25:44.113669Z",
     "iopub.status.idle": "2022-04-16T12:25:44.264122Z",
     "shell.execute_reply": "2022-04-16T12:25:44.263314Z"
    },
    "executionInfo": {
     "elapsed": 5,
     "status": "ok",
     "timestamp": 1658194966224,
     "user": {
      "displayName": "Zhihui Zhang",
      "userId": "18121328016239407453"
     },
     "user_tz": 240
    },
    "id": "efd82f6e",
    "outputId": "16a09ad4-3834-4166-b3ee-d162f00cb034",
    "papermill": {
     "duration": 0.190062,
     "end_time": "2022-04-16T12:25:44.266160",
     "exception": false,
     "start_time": "2022-04-16T12:25:44.076098",
     "status": "completed"
    },
    "tags": []
   },
   "outputs": [
    {
     "data": {
      "text/plain": [
       "array(['ACTIVE', nan, 'PRE-CREATE', 'LEFT CLUB'], dtype=object)"
      ]
     },
     "execution_count": 27,
     "metadata": {},
     "output_type": "execute_result"
    }
   ],
   "source": [
    "customers['club_member_status'].unique()"
   ]
  },
  {
   "cell_type": "code",
   "execution_count": 28,
   "id": "61bf9df5",
   "metadata": {
    "execution": {
     "iopub.execute_input": "2022-04-16T12:25:44.340621Z",
     "iopub.status.busy": "2022-04-16T12:25:44.340332Z",
     "iopub.status.idle": "2022-04-16T12:25:46.589926Z",
     "shell.execute_reply": "2022-04-16T12:25:46.588812Z"
    },
    "id": "61bf9df5",
    "papermill": {
     "duration": 2.290022,
     "end_time": "2022-04-16T12:25:46.592454",
     "exception": false,
     "start_time": "2022-04-16T12:25:44.302432",
     "status": "completed"
    },
    "tags": []
   },
   "outputs": [],
   "source": [
    "customers.customer_id = customer_hex_id_to_int(customers.customer_id)\n",
    "for col in ['FN', 'Active', 'age']:\n",
    "    customers[col].fillna(-1, inplace=True)\n",
    "    customers[col] = customers[col].astype('int8')"
   ]
  },
  {
   "cell_type": "code",
   "execution_count": 29,
   "id": "758411dd",
   "metadata": {
    "execution": {
     "iopub.execute_input": "2022-04-16T12:25:46.667897Z",
     "iopub.status.busy": "2022-04-16T12:25:46.667528Z",
     "iopub.status.idle": "2022-04-16T12:25:49.385374Z",
     "shell.execute_reply": "2022-04-16T12:25:49.384339Z"
    },
    "id": "758411dd",
    "papermill": {
     "duration": 2.758955,
     "end_time": "2022-04-16T12:25:49.388205",
     "exception": false,
     "start_time": "2022-04-16T12:25:46.629250",
     "status": "completed"
    },
    "tags": []
   },
   "outputs": [],
   "source": [
    "#categorize the data\n",
    "customers.club_member_status = Categorize().fit_transform(customers[['club_member_status']]).club_member_status\n",
    "customers.postal_code = Categorize().fit_transform(customers[['postal_code']]).postal_code\n",
    "customers.fashion_news_frequency = Categorize().fit_transform(customers[['fashion_news_frequency']]).fashion_news_frequency"
   ]
  },
  {
   "cell_type": "code",
   "execution_count": 30,
   "id": "7761a45d",
   "metadata": {
    "colab": {
     "base_uri": "https://localhost:8080/"
    },
    "execution": {
     "iopub.execute_input": "2022-04-16T12:25:49.466147Z",
     "iopub.status.busy": "2022-04-16T12:25:49.465860Z",
     "iopub.status.idle": "2022-04-16T12:25:49.491089Z",
     "shell.execute_reply": "2022-04-16T12:25:49.490020Z"
    },
    "executionInfo": {
     "elapsed": 305,
     "status": "ok",
     "timestamp": 1658194972328,
     "user": {
      "displayName": "Zhihui Zhang",
      "userId": "18121328016239407453"
     },
     "user_tz": 240
    },
    "id": "7761a45d",
    "outputId": "dc8bc8f7-ee7b-4c15-e5a4-61622ffdbe62",
    "papermill": {
     "duration": 0.066816,
     "end_time": "2022-04-16T12:25:49.493705",
     "exception": false,
     "start_time": "2022-04-16T12:25:49.426889",
     "status": "completed"
    },
    "tags": []
   },
   "outputs": [
    {
     "name": "stdout",
     "output_type": "stream",
     "text": [
      "<class 'pandas.core.frame.DataFrame'>\n",
      "RangeIndex: 1371980 entries, 0 to 1371979\n",
      "Data columns (total 7 columns):\n",
      " #   Column                  Non-Null Count    Dtype \n",
      "---  ------                  --------------    ----- \n",
      " 0   customer_id             1371980 non-null  uint64\n",
      " 1   FN                      1371980 non-null  int8  \n",
      " 2   Active                  1371980 non-null  int8  \n",
      " 3   club_member_status      1371980 non-null  int8  \n",
      " 4   fashion_news_frequency  1371980 non-null  int8  \n",
      " 5   age                     1371980 non-null  int8  \n",
      " 6   postal_code             1371980 non-null  int32 \n",
      "dtypes: int32(1), int8(5), uint64(1)\n",
      "memory usage: 22.2 MB\n"
     ]
    }
   ],
   "source": [
    "customers.info(memory_usage='deep')"
   ]
  },
  {
   "cell_type": "markdown",
   "id": "cb612a51",
   "metadata": {},
   "source": [
    "#### Articles\n",
    "1. convert article_id to int32\n",
    "2. keep all other features "
   ]
  },
  {
   "cell_type": "code",
   "execution_count": null,
   "id": "6cb4fc65",
   "metadata": {
    "execution": {
     "iopub.execute_input": "2022-04-16T12:25:49.572701Z",
     "iopub.status.busy": "2022-04-16T12:25:49.571660Z",
     "iopub.status.idle": "2022-04-16T12:25:50.148323Z",
     "shell.execute_reply": "2022-04-16T12:25:50.147487Z"
    },
    "id": "6cb4fc65",
    "papermill": {
     "duration": 0.619047,
     "end_time": "2022-04-16T12:25:50.150960",
     "exception": false,
     "start_time": "2022-04-16T12:25:49.531913",
     "status": "completed"
    },
    "tags": []
   },
   "outputs": [],
   "source": [
    "# for col in articles.columns:\n",
    "#     if articles[col].dtype == 'object':\n",
    "#         articles[col] = Categorize().fit_transform(articles[[col]])[col]"
   ]
  },
  {
   "cell_type": "code",
   "execution_count": 33,
   "id": "4a8e33bd",
   "metadata": {
    "colab": {
     "base_uri": "https://localhost:8080/"
    },
    "execution": {
     "iopub.execute_input": "2022-04-16T12:25:50.228448Z",
     "iopub.status.busy": "2022-04-16T12:25:50.228179Z",
     "iopub.status.idle": "2022-04-16T12:25:50.247605Z",
     "shell.execute_reply": "2022-04-16T12:25:50.246874Z"
    },
    "executionInfo": {
     "elapsed": 299,
     "status": "ok",
     "timestamp": 1658194974183,
     "user": {
      "displayName": "Zhihui Zhang",
      "userId": "18121328016239407453"
     },
     "user_tz": 240
    },
    "id": "4a8e33bd",
    "outputId": "07e2d407-220e-48c4-8507-4ad8d11b857c",
    "papermill": {
     "duration": 0.060666,
     "end_time": "2022-04-16T12:25:50.249984",
     "exception": false,
     "start_time": "2022-04-16T12:25:50.189318",
     "status": "completed"
    },
    "tags": []
   },
   "outputs": [
    {
     "name": "stdout",
     "output_type": "stream",
     "text": [
      "<class 'pandas.core.frame.DataFrame'>\n",
      "RangeIndex: 105542 entries, 0 to 105541\n",
      "Data columns (total 25 columns):\n",
      " #   Column                        Non-Null Count   Dtype \n",
      "---  ------                        --------------   ----- \n",
      " 0   article_id                    105542 non-null  int32 \n",
      " 1   product_code                  105542 non-null  int64 \n",
      " 2   prod_name                     105542 non-null  object\n",
      " 3   product_type_no               105542 non-null  int64 \n",
      " 4   product_type_name             105542 non-null  object\n",
      " 5   product_group_name            105542 non-null  object\n",
      " 6   graphical_appearance_no       105542 non-null  int64 \n",
      " 7   graphical_appearance_name     105542 non-null  object\n",
      " 8   colour_group_code             105542 non-null  int64 \n",
      " 9   colour_group_name             105542 non-null  object\n",
      " 10  perceived_colour_value_id     105542 non-null  int64 \n",
      " 11  perceived_colour_value_name   105542 non-null  object\n",
      " 12  perceived_colour_master_id    105542 non-null  int64 \n",
      " 13  perceived_colour_master_name  105542 non-null  object\n",
      " 14  department_no                 105542 non-null  int64 \n",
      " 15  department_name               105542 non-null  object\n",
      " 16  index_code                    105542 non-null  object\n",
      " 17  index_name                    105542 non-null  object\n",
      " 18  index_group_no                105542 non-null  int64 \n",
      " 19  index_group_name              105542 non-null  object\n",
      " 20  section_no                    105542 non-null  int64 \n",
      " 21  section_name                  105542 non-null  object\n",
      " 22  garment_group_no              105542 non-null  int64 \n",
      " 23  garment_group_name            105542 non-null  object\n",
      " 24  detail_desc                   105126 non-null  object\n",
      "dtypes: int32(1), int64(10), object(14)\n",
      "memory usage: 117.2 MB\n"
     ]
    }
   ],
   "source": [
    "articles.info(memory_usage='deep')"
   ]
  },
  {
   "cell_type": "code",
   "execution_count": 34,
   "id": "b3596527",
   "metadata": {
    "execution": {
     "iopub.execute_input": "2022-04-16T12:25:50.328600Z",
     "iopub.status.busy": "2022-04-16T12:25:50.328259Z",
     "iopub.status.idle": "2022-04-16T12:25:50.357834Z",
     "shell.execute_reply": "2022-04-16T12:25:50.356746Z"
    },
    "id": "b3596527",
    "papermill": {
     "duration": 0.072102,
     "end_time": "2022-04-16T12:25:50.360311",
     "exception": false,
     "start_time": "2022-04-16T12:25:50.288209",
     "status": "completed"
    },
    "tags": []
   },
   "outputs": [],
   "source": [
    "for col in articles.columns:\n",
    "    if articles[col].dtype == 'int64':\n",
    "        articles[col] = articles[col].astype('int32')"
   ]
  },
  {
   "cell_type": "markdown",
   "id": "e759f542",
   "metadata": {},
   "source": [
    "#### Other"
   ]
  },
  {
   "cell_type": "markdown",
   "id": "dc411fb5",
   "metadata": {
    "id": "dc411fb5",
    "papermill": {
     "duration": 0.038116,
     "end_time": "2022-04-16T12:25:50.437728",
     "exception": false,
     "start_time": "2022-04-16T12:25:50.399612",
     "status": "completed"
    },
    "tags": []
   },
   "source": [
    "And this concludes our raw data preparation step! Let's now write everything back to disk."
   ]
  },
  {
   "cell_type": "code",
   "execution_count": 37,
   "id": "86f4e1b3",
   "metadata": {
    "execution": {
     "iopub.execute_input": "2022-04-16T12:25:50.516915Z",
     "iopub.status.busy": "2022-04-16T12:25:50.516593Z",
     "iopub.status.idle": "2022-04-16T12:26:00.227174Z",
     "shell.execute_reply": "2022-04-16T12:26:00.226199Z"
    },
    "id": "86f4e1b3",
    "papermill": {
     "duration": 9.753709,
     "end_time": "2022-04-16T12:26:00.230038",
     "exception": false,
     "start_time": "2022-04-16T12:25:50.476329",
     "status": "completed"
    },
    "tags": []
   },
   "outputs": [],
   "source": [
    "transactions.sort_values(['t_dat', 'customer_id'], inplace=True)"
   ]
  },
  {
   "cell_type": "code",
   "execution_count": 41,
   "id": "682b1125",
   "metadata": {
    "colab": {
     "base_uri": "https://localhost:8080/",
     "height": 425
    },
    "execution": {
     "iopub.execute_input": "2022-04-16T12:26:00.311246Z",
     "iopub.status.busy": "2022-04-16T12:26:00.310938Z",
     "iopub.status.idle": "2022-04-16T12:26:06.297670Z",
     "shell.execute_reply": "2022-04-16T12:26:06.296384Z"
    },
    "executionInfo": {
     "elapsed": 9,
     "status": "error",
     "timestamp": 1658338228373,
     "user": {
      "displayName": "Zhihui Zhang",
      "userId": "18121328016239407453"
     },
     "user_tz": 240
    },
    "id": "682b1125",
    "outputId": "ce8ed8d8-eb04-4277-f75f-77db642bcdd8",
    "papermill": {
     "duration": 6.030944,
     "end_time": "2022-04-16T12:26:06.300684",
     "exception": false,
     "start_time": "2022-04-16T12:26:00.269740",
     "status": "completed"
    },
    "tags": []
   },
   "outputs": [
    {
     "name": "stdout",
     "output_type": "stream",
     "text": [
      "CPU times: user 7 µs, sys: 4 µs, total: 11 µs\n",
      "Wall time: 1.32 ms\n"
     ]
    }
   ],
   "source": [
    "#further save memeory to store the data as parquet format\n",
    "%time\n",
    "\n",
    "transactions.to_parquet('transactions_train.parquet')\n",
    "customers.to_parquet('customers.parquet')\n",
    "articles.to_parquet('articles.parquet')"
   ]
  }
 ],
 "metadata": {
  "colab": {
   "name": "radek-s-lgbmranker-starter-pack-warmup.ipynb",
   "provenance": []
  },
  "kernelspec": {
   "display_name": "Python 3 (ipykernel)",
   "language": "python",
   "name": "python3"
  },
  "language_info": {
   "codemirror_mode": {
    "name": "ipython",
    "version": 3
   },
   "file_extension": ".py",
   "mimetype": "text/x-python",
   "name": "python",
   "nbconvert_exporter": "python",
   "pygments_lexer": "ipython3",
   "version": "3.7.11"
  },
  "papermill": {
   "default_parameters": {},
   "duration": 275.588452,
   "end_time": "2022-04-16T12:26:08.370916",
   "environment_variables": {},
   "exception": null,
   "input_path": "__notebook__.ipynb",
   "output_path": "__notebook__.ipynb",
   "parameters": {},
   "start_time": "2022-04-16T12:21:32.782464",
   "version": "2.3.4"
  }
 },
 "nbformat": 4,
 "nbformat_minor": 5
}
