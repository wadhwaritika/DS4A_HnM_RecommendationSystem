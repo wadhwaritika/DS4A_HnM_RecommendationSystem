{
  "cells": [
    {
      "cell_type": "markdown",
      "source": [
        "The codes in this notebook were tested on Google Colab with CPU.  "
      ],
      "metadata": {
        "id": "-tBomScnLtcu"
      }
    },
    {
      "cell_type": "markdown",
      "metadata": {
        "id": "Qqi-v_IpdnM1"
      },
      "source": [
        "## 0. Setup Kaggle data"
      ]
    },
    {
      "cell_type": "code",
      "execution_count": 85,
      "metadata": {
        "id": "VJfQXE0aZlk7"
      },
      "outputs": [],
      "source": [
        "# Refer to https://www.youtube.com/watch?v=57N1g8k2Hwc for setup\n",
        "# Install kaggle\n",
        "!pip install -q kaggle"
      ]
    },
    {
      "cell_type": "code",
      "execution_count": null,
      "metadata": {
        "id": "aYe-xpryaNh9"
      },
      "outputs": [],
      "source": [
        "# upload API json file (CAUTION! sensitive data)\n",
        "from google.colab import files\n",
        "files.upload()"
      ]
    },
    {
      "cell_type": "code",
      "execution_count": null,
      "metadata": {
        "id": "7OU92jA3XFTI"
      },
      "outputs": [],
      "source": [
        "# for download\n",
        "#result.to_csv('example_file.csv')\n",
        "#!cp example_file.csv \"/content/drive/My Drive/\""
      ]
    },
    {
      "cell_type": "code",
      "execution_count": 87,
      "metadata": {
        "colab": {
          "base_uri": "https://localhost:8080/"
        },
        "id": "SfMe4NQ7bB1i",
        "outputId": "9b22df50-1e92-4736-83a9-9c0cbe735742"
      },
      "outputs": [
        {
          "output_type": "stream",
          "name": "stdout",
          "text": [
            "kaggle.json\n"
          ]
        }
      ],
      "source": [
        "# create the kaggle folder and cp json file into it\n",
        "!mkdir -p ~/.kaggle\n",
        "!mv *json ~/.kaggle\n",
        "!ls ~/.kaggle"
      ]
    },
    {
      "cell_type": "code",
      "execution_count": 88,
      "metadata": {
        "id": "FtzZDBEcbJfN"
      },
      "outputs": [],
      "source": [
        "# change file permission\n",
        "!chmod 600 ~/.kaggle/*json"
      ]
    },
    {
      "cell_type": "code",
      "execution_count": 89,
      "metadata": {
        "colab": {
          "base_uri": "https://localhost:8080/"
        },
        "id": "ICA05zL4cJxd",
        "outputId": "0f497659-8ed9-4556-9f89-f4ebcbd82c52"
      },
      "outputs": [
        {
          "output_type": "stream",
          "name": "stdout",
          "text": [
            "Downloading h-and-m-personalized-fashion-recommendations.zip to /content\n",
            "100% 28.7G/28.7G [03:11<00:00, 191MB/s]\n",
            "100% 28.7G/28.7G [03:11<00:00, 161MB/s]\n"
          ]
        }
      ],
      "source": [
        "# download HM dataset\n",
        "!kaggle competitions download -c h-and-m-personalized-fashion-recommendations"
      ]
    },
    {
      "cell_type": "code",
      "execution_count": 90,
      "metadata": {
        "id": "ht4Xa1OrdQUp"
      },
      "outputs": [],
      "source": [
        "!mkdir -p hm_data"
      ]
    },
    {
      "cell_type": "code",
      "execution_count": 91,
      "metadata": {
        "id": "7b13rXjZ8jzK"
      },
      "outputs": [],
      "source": [
        "# extract only csv files\n",
        "!unzip -p h-and-m-personalized-fashion-recommendations customers.csv > ./hm_data/customers.csv\n",
        "!unzip -p h-and-m-personalized-fashion-recommendations articles.csv > ./hm_data/articles.csv\n",
        "!unzip -p h-and-m-personalized-fashion-recommendations transactions_train.csv > ./hm_data/transactions_train.csv"
      ]
    },
    {
      "cell_type": "code",
      "execution_count": 92,
      "metadata": {
        "id": "7L2wQB6o9IZx"
      },
      "outputs": [],
      "source": [
        "!rm *zip"
      ]
    },
    {
      "cell_type": "code",
      "execution_count": null,
      "metadata": {
        "id": "9N6NeBj5rcSB"
      },
      "outputs": [],
      "source": [
        "# extract all files (large)\n",
        "#!unzip *zip -d hm_data"
      ]
    },
    {
      "cell_type": "code",
      "execution_count": null,
      "metadata": {
        "id": "WJfvB3DLeM2M"
      },
      "outputs": [],
      "source": [
        "# remove kaggle API credentials\n",
        "# !rm ~/.kaggle/*json"
      ]
    },
    {
      "cell_type": "code",
      "execution_count": 93,
      "metadata": {
        "colab": {
          "base_uri": "https://localhost:8080/"
        },
        "id": "dgzNLeh-hp6Z",
        "outputId": "be2c35b4-1741-485c-82bb-d8df34bd08d6"
      },
      "outputs": [
        {
          "output_type": "stream",
          "name": "stdout",
          "text": [
            "articles.csv  customers.csv  transactions_train.csv\n"
          ]
        }
      ],
      "source": [
        "!ls hm_data"
      ]
    },
    {
      "cell_type": "code",
      "execution_count": 94,
      "metadata": {
        "colab": {
          "base_uri": "https://localhost:8080/"
        },
        "id": "gohbqraOPEGB",
        "outputId": "66ef7ea2-5976-46fc-ff58-adab4c466acf"
      },
      "outputs": [
        {
          "output_type": "stream",
          "name": "stdout",
          "text": [
            "gdrive\thm_data  sample_data\n"
          ]
        }
      ],
      "source": [
        "!ls"
      ]
    },
    {
      "cell_type": "markdown",
      "metadata": {
        "id": "6tcGcVLJvl7-"
      },
      "source": [
        "## 1. EDA"
      ]
    },
    {
      "cell_type": "code",
      "execution_count": 101,
      "metadata": {
        "id": "ilG7HiIHp_mn"
      },
      "outputs": [],
      "source": [
        "import numpy as np\n",
        "import datetime\n",
        "import pandas as pd\n",
        "import seaborn as sns\n",
        "from matplotlib import pyplot as plt\n",
        "from tqdm.notebook import tqdm\n",
        "\n"
      ]
    },
    {
      "cell_type": "code",
      "execution_count": 102,
      "metadata": {
        "id": "Q2nAjtg1vy56"
      },
      "outputs": [],
      "source": [
        "mydir = \"./hm_data\"\n",
        "articles = pd.read_csv(mydir+\"/articles.csv\")\n",
        "customers = pd.read_csv(mydir+\"/customers.csv\")\n",
        "transactions = pd.read_csv(mydir+\"/transactions_train.csv\")"
      ]
    },
    {
      "cell_type": "code",
      "execution_count": null,
      "metadata": {
        "colab": {
          "base_uri": "https://localhost:8080/"
        },
        "id": "uj1_HYVbwRhc",
        "outputId": "1c0b82c7-fa32-4a91-bed9-c8196ef6243e"
      },
      "outputs": [
        {
          "name": "stdout",
          "output_type": "stream",
          "text": [
            "Index(['t_dat', 'customer_id', 'article_id', 'price', 'sales_channel_id'], dtype='object')\n",
            "1371980 105542\n"
          ]
        }
      ],
      "source": [
        "print(transactions.columns)\n",
        "(n_cid_total, n_aid_total) = (customers.shape[0],articles.shape[0])\n",
        "print(n_cid_total, n_aid_total)"
      ]
    },
    {
      "cell_type": "markdown",
      "metadata": {
        "id": "K6LhXIx_hrgf"
      },
      "source": [
        "### How many customers have purchase history?  1362281 / 1371980"
      ]
    },
    {
      "cell_type": "code",
      "execution_count": null,
      "metadata": {
        "colab": {
          "base_uri": "https://localhost:8080/"
        },
        "id": "_2gpn_dUytGl",
        "outputId": "d70fd441-8a05-4061-e14f-b0f749aa2e45"
      },
      "outputs": [
        {
          "name": "stdout",
          "output_type": "stream",
          "text": [
            "1362281\n",
            "0.9929306549658158\n"
          ]
        }
      ],
      "source": [
        "cid_buy = set(transactions['customer_id'])\n",
        "print(len(cid_buy))\n",
        "print(len(cid_buy)/n_cid_total)"
      ]
    },
    {
      "cell_type": "markdown",
      "metadata": {
        "id": "0NJM4cV1i_9t"
      },
      "source": [
        "### How many items have buying customers? 104547 / 105542"
      ]
    },
    {
      "cell_type": "code",
      "execution_count": null,
      "metadata": {
        "colab": {
          "base_uri": "https://localhost:8080/"
        },
        "id": "hkIuq9oYhnZm",
        "outputId": "d3b2ac99-411e-43a2-b4b6-2f5dccefad64"
      },
      "outputs": [
        {
          "name": "stdout",
          "output_type": "stream",
          "text": [
            "0.9905724735176518\n"
          ]
        }
      ],
      "source": [
        "aid_buy =  set(transactions['article_id'])\n",
        "len(aid_buy)\n",
        "print(len(aid_buy)/n_aid_total)"
      ]
    },
    {
      "cell_type": "markdown",
      "metadata": {
        "id": "7m2Om0hKlR7s"
      },
      "source": [
        "### Number of items bought per customer? Median 9"
      ]
    },
    {
      "cell_type": "code",
      "execution_count": null,
      "metadata": {
        "id": "U74dqZsrvpby"
      },
      "outputs": [],
      "source": [
        "transactions_byid_n = transactions.groupby('customer_id').count()"
      ]
    },
    {
      "cell_type": "code",
      "execution_count": null,
      "metadata": {
        "colab": {
          "base_uri": "https://localhost:8080/",
          "height": 345
        },
        "id": "fuA4ofY1hz2z",
        "outputId": "c6d3ddd0-baf5-4d53-a9f8-d0825ba4efbd"
      },
      "outputs": [
        {
          "data": {
            "image/png": "[encoded data removed]",
            "text/plain": [
              "<Figure size 720x360 with 1 Axes>"
            ]
          },
          "metadata": {},
          "output_type": "display_data"
        }
      ],
      "source": [
        "sns.set_style(\"darkgrid\")\n",
        "f, ax = plt.subplots(figsize=(10,5))\n",
        "ax = sns.histplot(data=transactions_byid_n, x='t_dat', bins=50, color='orange')\n",
        "ax.set_xlabel('Distribution of #items bought per customer')\n",
        "plt.show()"
      ]
    },
    {
      "cell_type": "code",
      "execution_count": null,
      "metadata": {
        "colab": {
          "base_uri": "https://localhost:8080/"
        },
        "id": "MHo1TWtty3e6",
        "outputId": "a43bfe00-2db2-4f06-ddc3-4bbed2344b5d"
      },
      "outputs": [
        {
          "data": {
            "text/plain": [
              "9.0"
            ]
          },
          "execution_count": 57,
          "metadata": {},
          "output_type": "execute_result"
        }
      ],
      "source": [
        "transactions_byid_n.t_dat.median()"
      ]
    },
    {
      "cell_type": "markdown",
      "metadata": {
        "id": "cN4F2bFRzX3I"
      },
      "source": [
        "### Purchase frequency？Median 8.5 days per item"
      ]
    },
    {
      "cell_type": "code",
      "execution_count": null,
      "metadata": {
        "id": "Ka17AewN9Ap3"
      },
      "outputs": [],
      "source": [
        "transactions['t_dat'] = pd.to_datetime(transactions['t_dat'], format='%Y-%m-%d')"
      ]
    },
    {
      "cell_type": "code",
      "execution_count": null,
      "metadata": {
        "id": "ROkipxlZrYd9"
      },
      "outputs": [],
      "source": [
        "transactions_byid = transactions.groupby('customer_id')"
      ]
    },
    {
      "cell_type": "code",
      "execution_count": null,
      "metadata": {
        "id": "XgQ0AtX6vPJ_"
      },
      "outputs": [],
      "source": [
        "transactions_byid2 = transactions_byid.agg(Minimum_Date=('t_dat', np.min), Maximum_Date=('t_dat', np.max), N_purchases=('t_dat', len))\n",
        " "
      ]
    },
    {
      "cell_type": "markdown",
      "metadata": {
        "id": "kZtHNRRR4oGl"
      },
      "source": [
        ""
      ]
    },
    {
      "cell_type": "code",
      "execution_count": null,
      "metadata": {
        "id": "0ZOPWuya-tGd"
      },
      "outputs": [],
      "source": [
        "diff = (transactions_byid2['Maximum_Date']-transactions_byid2['Minimum_Date'])\n",
        "diff_days = [d.days for d in diff]"
      ]
    },
    {
      "cell_type": "code",
      "execution_count": null,
      "metadata": {
        "id": "ifHtQaTO2M75"
      },
      "outputs": [],
      "source": [
        "transactions_byid2['Days_per_Purchase'] = diff_days/transactions_byid2['N_purchases']"
      ]
    },
    {
      "cell_type": "code",
      "execution_count": null,
      "metadata": {
        "colab": {
          "base_uri": "https://localhost:8080/",
          "height": 301
        },
        "id": "xyb5J0ba8IW9",
        "outputId": "4338e8d1-712f-4d57-9f2f-61b3657357b9"
      },
      "outputs": [
        {
          "data": {
            "text/html": [
              "\n",
              "  <div id=\"df-11b9b597-799a-4a14-8321-12b7f76623e6\">\n",
              "    <div class=\"colab-df-container\">\n",
              "      <div>\n",
              "<style scoped>\n",
              "    .dataframe tbody tr th:only-of-type {\n",
              "        vertical-align: middle;\n",
              "    }\n",
              "\n",
              "    .dataframe tbody tr th {\n",
              "        vertical-align: top;\n",
              "    }\n",
              "\n",
              "    .dataframe thead th {\n",
              "        text-align: right;\n",
              "    }\n",
              "</style>\n",
              "<table border=\"1\" class=\"dataframe\">\n",
              "  <thead>\n",
              "    <tr style=\"text-align: right;\">\n",
              "      <th></th>\n",
              "      <th>Minimum_Date</th>\n",
              "      <th>Maximum_Date</th>\n",
              "      <th>N_purchases</th>\n",
              "      <th>Days_per_Purchase</th>\n",
              "    </tr>\n",
              "    <tr>\n",
              "      <th>customer_id</th>\n",
              "      <th></th>\n",
              "      <th></th>\n",
              "      <th></th>\n",
              "      <th></th>\n",
              "    </tr>\n",
              "  </thead>\n",
              "  <tbody>\n",
              "    <tr>\n",
              "      <th>00000dbacae5abe5e23885899a1fa44253a17956c6d1c3d25f88aa139fdfc657</th>\n",
              "      <td>2018-12-27</td>\n",
              "      <td>2020-09-05</td>\n",
              "      <td>21</td>\n",
              "      <td>29.428571</td>\n",
              "    </tr>\n",
              "    <tr>\n",
              "      <th>0000423b00ade91418cceaf3b26c6af3dd342b51fd051eec9c12fb36984420fa</th>\n",
              "      <td>2018-09-21</td>\n",
              "      <td>2020-07-08</td>\n",
              "      <td>86</td>\n",
              "      <td>7.627907</td>\n",
              "    </tr>\n",
              "    <tr>\n",
              "      <th>000058a12d5b43e67d225668fa1f8d618c13dc232df0cad8ffe7ad4a1091e318</th>\n",
              "      <td>2018-09-20</td>\n",
              "      <td>2020-09-15</td>\n",
              "      <td>18</td>\n",
              "      <td>40.333333</td>\n",
              "    </tr>\n",
              "    <tr>\n",
              "      <th>00005ca1c9ed5f5146b52ac8639a40ca9d57aeff4d1bd2c5feb1ca5dff07c43e</th>\n",
              "      <td>2019-06-09</td>\n",
              "      <td>2019-06-09</td>\n",
              "      <td>2</td>\n",
              "      <td>0.000000</td>\n",
              "    </tr>\n",
              "    <tr>\n",
              "      <th>00006413d8573cd20ed7128e53b7b13819fe5cfc2d801fe7fc0f26dd8d65a85a</th>\n",
              "      <td>2018-10-12</td>\n",
              "      <td>2020-08-12</td>\n",
              "      <td>13</td>\n",
              "      <td>51.538462</td>\n",
              "    </tr>\n",
              "  </tbody>\n",
              "</table>\n",
              "</div>\n",
              "      <button class=\"colab-df-convert\" onclick=\"convertToInteractive('df-11b9b597-799a-4a14-8321-12b7f76623e6')\"\n",
              "              title=\"Convert this dataframe to an interactive table.\"\n",
              "              style=\"display:none;\">\n",
              "        \n",
              "  <svg xmlns=\"http://www.w3.org/2000/svg\" height=\"24px\"viewBox=\"0 0 24 24\"\n",
              "       width=\"24px\">\n",
              "    <path d=\"M0 0h24v24H0V0z\" fill=\"none\"/>\n",
              "    <path d=\"M18.56 5.44l.94 2.06.94-2.06 2.06-.94-2.06-.94-.94-2.06-.94 2.06-2.06.94zm-11 1L8.5 8.5l.94-2.06 2.06-.94-2.06-.94L8.5 2.5l-.94 2.06-2.06.94zm10 10l.94 2.06.94-2.06 2.06-.94-2.06-.94-.94-2.06-.94 2.06-2.06.94z\"/><path d=\"M17.41 7.96l-1.37-1.37c-.4-.4-.92-.59-1.43-.59-.52 0-1.04.2-1.43.59L10.3 9.45l-7.72 7.72c-.78.78-.78 2.05 0 2.83L4 21.41c.39.39.9.59 1.41.59.51 0 1.02-.2 1.41-.59l7.78-7.78 2.81-2.81c.8-.78.8-2.07 0-2.86zM5.41 20L4 18.59l7.72-7.72 1.47 1.35L5.41 20z\"/>\n",
              "  </svg>\n",
              "      </button>\n",
              "      \n",
              "  <style>\n",
              "    .colab-df-container {\n",
              "      display:flex;\n",
              "      flex-wrap:wrap;\n",
              "      gap: 12px;\n",
              "    }\n",
              "\n",
              "    .colab-df-convert {\n",
              "      background-color: #E8F0FE;\n",
              "      border: none;\n",
              "      border-radius: 50%;\n",
              "      cursor: pointer;\n",
              "      display: none;\n",
              "      fill: #1967D2;\n",
              "      height: 32px;\n",
              "      padding: 0 0 0 0;\n",
              "      width: 32px;\n",
              "    }\n",
              "\n",
              "    .colab-df-convert:hover {\n",
              "      background-color: #E2EBFA;\n",
              "      box-shadow: 0px 1px 2px rgba(60, 64, 67, 0.3), 0px 1px 3px 1px rgba(60, 64, 67, 0.15);\n",
              "      fill: #174EA6;\n",
              "    }\n",
              "\n",
              "    [theme=dark] .colab-df-convert {\n",
              "      background-color: #3B4455;\n",
              "      fill: #D2E3FC;\n",
              "    }\n",
              "\n",
              "    [theme=dark] .colab-df-convert:hover {\n",
              "      background-color: #434B5C;\n",
              "      box-shadow: 0px 1px 3px 1px rgba(0, 0, 0, 0.15);\n",
              "      filter: drop-shadow(0px 1px 2px rgba(0, 0, 0, 0.3));\n",
              "      fill: #FFFFFF;\n",
              "    }\n",
              "  </style>\n",
              "\n",
              "      <script>\n",
              "        const buttonEl =\n",
              "          document.querySelector('#df-11b9b597-799a-4a14-8321-12b7f76623e6 button.colab-df-convert');\n",
              "        buttonEl.style.display =\n",
              "          google.colab.kernel.accessAllowed ? 'block' : 'none';\n",
              "\n",
              "        async function convertToInteractive(key) {\n",
              "          const element = document.querySelector('#df-11b9b597-799a-4a14-8321-12b7f76623e6');\n",
              "          const dataTable =\n",
              "            await google.colab.kernel.invokeFunction('convertToInteractive',\n",
              "                                                     [key], {});\n",
              "          if (!dataTable) return;\n",
              "\n",
              "          const docLinkHtml = 'Like what you see? Visit the ' +\n",
              "            '<a target=\"_blank\" href=https://colab.research.google.com/notebooks/data_table.ipynb>data table notebook</a>'\n",
              "            + ' to learn more about interactive tables.';\n",
              "          element.innerHTML = '';\n",
              "          dataTable['output_type'] = 'display_data';\n",
              "          await google.colab.output.renderOutput(dataTable, element);\n",
              "          const docLink = document.createElement('div');\n",
              "          docLink.innerHTML = docLinkHtml;\n",
              "          element.appendChild(docLink);\n",
              "        }\n",
              "      </script>\n",
              "    </div>\n",
              "  </div>\n",
              "  "
            ],
            "text/plain": [
              "                                                   Minimum_Date Maximum_Date  \\\n",
              "customer_id                                                                    \n",
              "00000dbacae5abe5e23885899a1fa44253a17956c6d1c3d...   2018-12-27   2020-09-05   \n",
              "0000423b00ade91418cceaf3b26c6af3dd342b51fd051ee...   2018-09-21   2020-07-08   \n",
              "000058a12d5b43e67d225668fa1f8d618c13dc232df0cad...   2018-09-20   2020-09-15   \n",
              "00005ca1c9ed5f5146b52ac8639a40ca9d57aeff4d1bd2c...   2019-06-09   2019-06-09   \n",
              "00006413d8573cd20ed7128e53b7b13819fe5cfc2d801fe...   2018-10-12   2020-08-12   \n",
              "\n",
              "                                                    N_purchases  \\\n",
              "customer_id                                                       \n",
              "00000dbacae5abe5e23885899a1fa44253a17956c6d1c3d...           21   \n",
              "0000423b00ade91418cceaf3b26c6af3dd342b51fd051ee...           86   \n",
              "000058a12d5b43e67d225668fa1f8d618c13dc232df0cad...           18   \n",
              "00005ca1c9ed5f5146b52ac8639a40ca9d57aeff4d1bd2c...            2   \n",
              "00006413d8573cd20ed7128e53b7b13819fe5cfc2d801fe...           13   \n",
              "\n",
              "                                                    Days_per_Purchase  \n",
              "customer_id                                                            \n",
              "00000dbacae5abe5e23885899a1fa44253a17956c6d1c3d...          29.428571  \n",
              "0000423b00ade91418cceaf3b26c6af3dd342b51fd051ee...           7.627907  \n",
              "000058a12d5b43e67d225668fa1f8d618c13dc232df0cad...          40.333333  \n",
              "00005ca1c9ed5f5146b52ac8639a40ca9d57aeff4d1bd2c...           0.000000  \n",
              "00006413d8573cd20ed7128e53b7b13819fe5cfc2d801fe...          51.538462  "
            ]
          },
          "execution_count": 51,
          "metadata": {},
          "output_type": "execute_result"
        }
      ],
      "source": [
        "transactions_byid2.head()"
      ]
    },
    {
      "cell_type": "code",
      "execution_count": null,
      "metadata": {
        "colab": {
          "base_uri": "https://localhost:8080/",
          "height": 335
        },
        "id": "sOuR7WGI4f8_",
        "outputId": "f5cb7b7b-026e-46bc-e690-88a8fc3e023b"
      },
      "outputs": [
        {
          "data": {
            "image/png": "[encoded data removed]",
            "text/plain": [
              "<Figure size 720x360 with 1 Axes>"
            ]
          },
          "metadata": {},
          "output_type": "display_data"
        }
      ],
      "source": [
        "sns.set_style(\"darkgrid\")\n",
        "f, ax = plt.subplots(figsize=(10,5))\n",
        "ax = sns.histplot(data=transactions_byid2, x='Days_per_Purchase', bins=50, color='orange')\n",
        "ax.set_xlabel('Distribution of Days_per_Purchase')\n",
        "plt.show()"
      ]
    },
    {
      "cell_type": "code",
      "execution_count": null,
      "metadata": {
        "colab": {
          "base_uri": "https://localhost:8080/"
        },
        "id": "i0Wk4EsA9-10",
        "outputId": "d0cc308f-9256-4966-b2a6-d2b5a3a7719f"
      },
      "outputs": [
        {
          "name": "stdout",
          "output_type": "stream",
          "text": [
            "8.478260869565217 0.0 364.5\n"
          ]
        }
      ],
      "source": [
        "print(transactions_byid2['Days_per_Purchase'].median(),transactions_byid2['Days_per_Purchase'].min(),transactions_byid2['Days_per_Purchase'].max())"
      ]
    },
    {
      "cell_type": "markdown",
      "metadata": {
        "id": "blpoEFKKB9M9"
      },
      "source": [
        "### How many purchases for each item? Median 65"
      ]
    },
    {
      "cell_type": "code",
      "execution_count": null,
      "metadata": {
        "colab": {
          "base_uri": "https://localhost:8080/"
        },
        "id": "dhPFbGaGI8By",
        "outputId": "9d89d759-8808-4c0e-ec1c-781e45d70fb5"
      },
      "outputs": [
        {
          "data": {
            "text/plain": [
              "65.0"
            ]
          },
          "execution_count": 22,
          "metadata": {},
          "output_type": "execute_result"
        }
      ],
      "source": [
        "transactions_byprod_n = transactions.groupby('article_id').count()\n",
        "transactions_byprod_n.customer_id.median()"
      ]
    },
    {
      "cell_type": "markdown",
      "metadata": {
        "id": "15M2KuwRTgn_"
      },
      "source": [
        "## 2. Filter transactions"
      ]
    },
    {
      "cell_type": "code",
      "execution_count": 97,
      "metadata": {
        "colab": {
          "base_uri": "https://localhost:8080/"
        },
        "id": "Blr6xsJVlyuy",
        "outputId": "4251c4a0-9a74-41e4-acf4-7115818ea9dd"
      },
      "outputs": [
        {
          "output_type": "stream",
          "name": "stdout",
          "text": [
            "Drive already mounted at /content/gdrive; to attempt to forcibly remount, call drive.mount(\"/content/gdrive\", force_remount=True).\n"
          ]
        }
      ],
      "source": [
        "import numpy as np\n",
        "import pandas as pd\n",
        "import pickle\n",
        "from sklearn.model_selection import train_test_split\n",
        "from google.colab import drive\n",
        "drive.mount('/content/gdrive')"
      ]
    },
    {
      "cell_type": "code",
      "execution_count": 98,
      "metadata": {
        "id": "wXR5jWI-7O3X"
      },
      "outputs": [],
      "source": [
        "# outputs\n",
        "fout_transactions_filtered = '/content/gdrive/MyDrive/DS4A_Capstone_local/cleaned_data_for_gnn/transactions_filtered.csv'\n"
      ]
    },
    {
      "cell_type": "markdown",
      "metadata": {
        "id": "rKCZFB_RBcsr"
      },
      "source": [
        "### 【Filter 1】Customer: bought 2-8 items -> 474049"
      ]
    },
    {
      "cell_type": "code",
      "source": [
        "transactions_byid_n = transactions.groupby('customer_id').count()"
      ],
      "metadata": {
        "id": "Rt__8l9acv4j"
      },
      "execution_count": 103,
      "outputs": []
    },
    {
      "cell_type": "code",
      "execution_count": 104,
      "metadata": {
        "colab": {
          "base_uri": "https://localhost:8080/"
        },
        "id": "9Oz6d7uEBGvs",
        "outputId": "d2c06521-13ec-417a-8762-1c54531d8ae9"
      },
      "outputs": [
        {
          "output_type": "execute_result",
          "data": {
            "text/plain": [
              "474049"
            ]
          },
          "metadata": {},
          "execution_count": 104
        }
      ],
      "source": [
        "# uids_include0 = np.asarray(transactions_byid_n.query('article_id >50').index)\n",
        "uids_include0 = np.asarray(transactions_byid_n.query('article_id <8 and article_id>1').index)\n",
        "len(uids_include0)"
      ]
    },
    {
      "cell_type": "markdown",
      "metadata": {
        "id": "Lvw65e5pJpAN"
      },
      "source": [
        "### 【Filter 2】Item: more than 50 purchases -> 56696"
      ]
    },
    {
      "cell_type": "code",
      "source": [
        "transactions_byprod_n = transactions.groupby('article_id').count()"
      ],
      "metadata": {
        "id": "OCxodud6dOpg"
      },
      "execution_count": 105,
      "outputs": []
    },
    {
      "cell_type": "code",
      "execution_count": 106,
      "metadata": {
        "colab": {
          "base_uri": "https://localhost:8080/"
        },
        "id": "P1PBQhGfJFWV",
        "outputId": "ef546c9d-fb89-4c14-c791-5cc127f89de0"
      },
      "outputs": [
        {
          "output_type": "execute_result",
          "data": {
            "text/plain": [
              "56696"
            ]
          },
          "metadata": {},
          "execution_count": 106
        }
      ],
      "source": [
        "iids_include0 = np.asarray(transactions_byprod_n.query('customer_id >50').index)\n",
        "len(iids_include0)"
      ]
    },
    {
      "cell_type": "markdown",
      "metadata": {
        "id": "1glrZ53_Uz6X"
      },
      "source": [
        "### 【Filter 3】 Finalize: non-zero-sum transaction matrix"
      ]
    },
    {
      "cell_type": "code",
      "execution_count": 107,
      "metadata": {
        "colab": {
          "base_uri": "https://localhost:8080/"
        },
        "id": "e0Z2d1EkVOEJ",
        "outputId": "4980769f-e539-4a2a-c538-15131770af3a"
      },
      "outputs": [
        {
          "output_type": "execute_result",
          "data": {
            "text/plain": [
              "1814570"
            ]
          },
          "metadata": {},
          "execution_count": 107
        }
      ],
      "source": [
        "transactions_filtered = transactions[transactions.customer_id.isin(uids_include0) & transactions.article_id.isin(iids_include0)]\n",
        "len(transactions_filtered)"
      ]
    },
    {
      "cell_type": "code",
      "execution_count": 108,
      "metadata": {
        "colab": {
          "base_uri": "https://localhost:8080/"
        },
        "id": "-J77meDgY3vS",
        "outputId": "558e3869-6f0e-4ae5-a137-543d212d0dbb"
      },
      "outputs": [
        {
          "output_type": "execute_result",
          "data": {
            "text/plain": [
              "471963"
            ]
          },
          "metadata": {},
          "execution_count": 108
        }
      ],
      "source": [
        "len(transactions_filtered.customer_id.unique())"
      ]
    },
    {
      "cell_type": "code",
      "execution_count": 109,
      "metadata": {
        "colab": {
          "base_uri": "https://localhost:8080/"
        },
        "id": "BYbsZKhea4iH",
        "outputId": "9c0f0d6b-430a-4f0e-ae01-b0c2a2b41592"
      },
      "outputs": [
        {
          "output_type": "execute_result",
          "data": {
            "text/plain": [
              "55717"
            ]
          },
          "metadata": {},
          "execution_count": 109
        }
      ],
      "source": [
        "len(transactions_filtered.article_id.unique())"
      ]
    },
    {
      "cell_type": "code",
      "execution_count": 110,
      "metadata": {
        "id": "eQLInbN2dSTo"
      },
      "outputs": [],
      "source": [
        "transactions_filtered.to_csv(fout_transactions_filtered, index=False)"
      ]
    },
    {
      "cell_type": "markdown",
      "metadata": {
        "id": "WkdCGw8Id0b0"
      },
      "source": [
        "## 3. Preprocess"
      ]
    },
    {
      "cell_type": "code",
      "execution_count": 156,
      "metadata": {
        "colab": {
          "base_uri": "https://localhost:8080/"
        },
        "id": "n2wc5zFRlkL8",
        "outputId": "04e773d4-129e-4e9b-ed5f-dc3039fd0b9d"
      },
      "outputs": [
        {
          "output_type": "stream",
          "name": "stdout",
          "text": [
            "Drive already mounted at /content/gdrive; to attempt to forcibly remount, call drive.mount(\"/content/gdrive\", force_remount=True).\n"
          ]
        }
      ],
      "source": [
        "import numpy as np\n",
        "import pandas as pd\n",
        "import pickle\n",
        "from scipy.spatial.distance import euclidean, pdist, squareform\n",
        "from google.colab import drive\n",
        "drive.mount('/content/gdrive')"
      ]
    },
    {
      "cell_type": "code",
      "execution_count": 157,
      "metadata": {
        "id": "LbrRpoX92c51"
      },
      "outputs": [],
      "source": [
        "# outputs\n",
        "fout_uid_dict = '/content/gdrive/MyDrive/DS4A_Capstone_local/cleaned_data_for_gnn/uid_dict_filtered.csv'\n",
        "fout_iid_dict = '/content/gdrive/MyDrive/DS4A_Capstone_local/cleaned_data_for_gnn/iid_dict_filtered.csv'\n",
        "\n",
        "fout_uu_df = '/content/gdrive/MyDrive/DS4A_Capstone_local/cleaned_data_for_gnn/uu_df.csv'\n",
        "\n",
        "fout_gnn_train = '/content/gdrive/MyDrive/DS4A_Capstone_local/cleaned_data_for_gnn/gnn_train.csv'\n",
        "fout_gnn_valid = '/content/gdrive/MyDrive/DS4A_Capstone_local/cleaned_data_for_gnn/gnn_valid.csv'\n",
        "fout_gnn_test = '/content/gdrive/MyDrive/DS4A_Capstone_local/cleaned_data_for_gnn/gnn_test.csv'\n",
        "fout_unique_counts = '/content/gdrive/MyDrive/DS4A_Capstone_local/cleaned_data_for_gnn/unique_counts.csv'"
      ]
    },
    {
      "cell_type": "code",
      "execution_count": 158,
      "metadata": {
        "id": "mzL8yMKpwYu8"
      },
      "outputs": [],
      "source": [
        "mydir = \"./hm_data\"\n",
        "mydir_g = \"/content/gdrive/MyDrive/DS4A_Capstone_local/cleaned_data_for_gnn\"\n",
        "\n",
        "articles = pd.read_csv(mydir+\"/articles.csv\")\n",
        "customers = pd.read_csv(mydir+\"/customers.csv\")\n",
        "transactions = pd.read_csv(mydir_g+\"/transactions_filtered.csv\")"
      ]
    },
    {
      "cell_type": "markdown",
      "metadata": {
        "id": "PRd6UsyLmC63"
      },
      "source": [
        "### Create dictionary"
      ]
    },
    {
      "cell_type": "code",
      "execution_count": 159,
      "metadata": {
        "id": "MO1hskNtXfkW"
      },
      "outputs": [],
      "source": [
        "# create dictionary to transform customer/product id to number ids\n",
        "uids = pd.Categorical(transactions['customer_id']).codes\n",
        "iids = pd.Categorical(transactions['article_id']).codes"
      ]
    },
    {
      "cell_type": "code",
      "execution_count": 115,
      "metadata": {
        "id": "DwDwxnGsYEC9"
      },
      "outputs": [],
      "source": [
        "#uid_dict = dict(zip(transactions['customer_id'],uids)) \n",
        "#iid_dict = dict(zip(transactions['article_id'],iids)) \n",
        "uid_dict = pd.DataFrame({'customer_id': transactions.customer_id,\n",
        "                        'uid': uids})\n",
        "iid_dict = pd.DataFrame({'article_id': transactions.article_id,\n",
        "                        'iid': iids})\n",
        "uid_dict.to_csv(fout_uid_dict, index=False)\n",
        "iid_dict.to_csv(fout_iid_dict, index=False)"
      ]
    },
    {
      "cell_type": "markdown",
      "metadata": {
        "id": "GA30qGgasHwL"
      },
      "source": [
        "### 【need to find better way】Get user-user similarity from user features"
      ]
    },
    {
      "cell_type": "code",
      "execution_count": 116,
      "metadata": {
        "id": "VZOJNFN_sPY_"
      },
      "outputs": [],
      "source": [
        "# include only customers in the filtered transaction dataset\n",
        "iids_include = transactions.customer_id.unique()\n",
        "customers_filtered = customers[customers.customer_id.isin(iids_include)].copy()"
      ]
    },
    {
      "cell_type": "code",
      "execution_count": 117,
      "metadata": {
        "id": "-9JY84hL3I8E"
      },
      "outputs": [],
      "source": [
        "# change non-one values in FN to 0\n",
        "isone_fn = customers_filtered['FN'].eq(1)\n",
        "customers_filtered['FN_comp']= np.where(isone_fn, 1.0, 0)"
      ]
    },
    {
      "cell_type": "code",
      "execution_count": 118,
      "metadata": {
        "id": "HPKH4v4P40tD"
      },
      "outputs": [],
      "source": [
        "# change non-one values in Active to 0\n",
        "isone_act = customers_filtered['Active'].eq(1)\n",
        "customers_filtered['Active_comp']= np.where(isone_act, 1.0, 0)"
      ]
    },
    {
      "cell_type": "code",
      "execution_count": 119,
      "metadata": {
        "id": "2AQYsawf5s_-"
      },
      "outputs": [],
      "source": [
        "# further filters on customer features\n",
        "cols_drop = ['FN','Active','club_member_status','fashion_news_frequency','postal_code']\n",
        "customers_filtered.drop(cols_drop, inplace=True, axis=1)\n",
        "customers_filtered = customers_filtered.reset_index(drop=True)\n",
        "customers_filtered = customers_filtered.set_index('customer_id')"
      ]
    },
    {
      "cell_type": "code",
      "execution_count": 120,
      "metadata": {
        "id": "OO9m_iBZ69Yb"
      },
      "outputs": [],
      "source": [
        "customers_filtered_norm=(customers_filtered-customers_filtered.mean())/customers_filtered.std()"
      ]
    },
    {
      "cell_type": "code",
      "execution_count": 121,
      "metadata": {
        "colab": {
          "base_uri": "https://localhost:8080/",
          "height": 237
        },
        "id": "K-HyF-h68Ib7",
        "outputId": "fbf38ec4-ff4c-4ea3-dee1-9710f71f7f96"
      },
      "outputs": [
        {
          "output_type": "execute_result",
          "data": {
            "text/plain": [
              "                                                         age   FN_comp  \\\n",
              "customer_id                                                              \n",
              "00005ca1c9ed5f5146b52ac8639a40ca9d57aeff4d1bd2c...  1.138145 -0.648655   \n",
              "000064249685c11552da43ef22a5030f35a147f723d5b02...       NaN -0.648655   \n",
              "0000757967448a6cb83efb3ea7a3fb9d418ac7adf2379d8... -1.130430 -0.648655   \n",
              "00007e8d4e54114b5b2a9b51586325a8d0fa74ea23ef773... -1.130430 -0.648655   \n",
              "00008469a21b50b3d147c97135e25b4201a8c58997f7878... -1.130430 -0.648655   \n",
              "\n",
              "                                                    Active_comp  \n",
              "customer_id                                                      \n",
              "00005ca1c9ed5f5146b52ac8639a40ca9d57aeff4d1bd2c...    -0.631353  \n",
              "000064249685c11552da43ef22a5030f35a147f723d5b02...    -0.631353  \n",
              "0000757967448a6cb83efb3ea7a3fb9d418ac7adf2379d8...    -0.631353  \n",
              "00007e8d4e54114b5b2a9b51586325a8d0fa74ea23ef773...    -0.631353  \n",
              "00008469a21b50b3d147c97135e25b4201a8c58997f7878...    -0.631353  "
            ],
            "text/html": [
              "\n",
              "  <div id=\"df-51c47b60-b3e7-43ba-9d9c-72b6980485cf\">\n",
              "    <div class=\"colab-df-container\">\n",
              "      <div>\n",
              "<style scoped>\n",
              "    .dataframe tbody tr th:only-of-type {\n",
              "        vertical-align: middle;\n",
              "    }\n",
              "\n",
              "    .dataframe tbody tr th {\n",
              "        vertical-align: top;\n",
              "    }\n",
              "\n",
              "    .dataframe thead th {\n",
              "        text-align: right;\n",
              "    }\n",
              "</style>\n",
              "<table border=\"1\" class=\"dataframe\">\n",
              "  <thead>\n",
              "    <tr style=\"text-align: right;\">\n",
              "      <th></th>\n",
              "      <th>age</th>\n",
              "      <th>FN_comp</th>\n",
              "      <th>Active_comp</th>\n",
              "    </tr>\n",
              "    <tr>\n",
              "      <th>customer_id</th>\n",
              "      <th></th>\n",
              "      <th></th>\n",
              "      <th></th>\n",
              "    </tr>\n",
              "  </thead>\n",
              "  <tbody>\n",
              "    <tr>\n",
              "      <th>00005ca1c9ed5f5146b52ac8639a40ca9d57aeff4d1bd2c5feb1ca5dff07c43e</th>\n",
              "      <td>1.138145</td>\n",
              "      <td>-0.648655</td>\n",
              "      <td>-0.631353</td>\n",
              "    </tr>\n",
              "    <tr>\n",
              "      <th>000064249685c11552da43ef22a5030f35a147f723d5b02ddd9fd22452b1f5a6</th>\n",
              "      <td>NaN</td>\n",
              "      <td>-0.648655</td>\n",
              "      <td>-0.631353</td>\n",
              "    </tr>\n",
              "    <tr>\n",
              "      <th>0000757967448a6cb83efb3ea7a3fb9d418ac7adf2379d8cd0c725276a467a2a</th>\n",
              "      <td>-1.130430</td>\n",
              "      <td>-0.648655</td>\n",
              "      <td>-0.631353</td>\n",
              "    </tr>\n",
              "    <tr>\n",
              "      <th>00007e8d4e54114b5b2a9b51586325a8d0fa74ea23ef77334eaec4ffccd7ebcc</th>\n",
              "      <td>-1.130430</td>\n",
              "      <td>-0.648655</td>\n",
              "      <td>-0.631353</td>\n",
              "    </tr>\n",
              "    <tr>\n",
              "      <th>00008469a21b50b3d147c97135e25b4201a8c58997f78782a0cc706645e14493</th>\n",
              "      <td>-1.130430</td>\n",
              "      <td>-0.648655</td>\n",
              "      <td>-0.631353</td>\n",
              "    </tr>\n",
              "  </tbody>\n",
              "</table>\n",
              "</div>\n",
              "      <button class=\"colab-df-convert\" onclick=\"convertToInteractive('df-51c47b60-b3e7-43ba-9d9c-72b6980485cf')\"\n",
              "              title=\"Convert this dataframe to an interactive table.\"\n",
              "              style=\"display:none;\">\n",
              "        \n",
              "  <svg xmlns=\"http://www.w3.org/2000/svg\" height=\"24px\"viewBox=\"0 0 24 24\"\n",
              "       width=\"24px\">\n",
              "    <path d=\"M0 0h24v24H0V0z\" fill=\"none\"/>\n",
              "    <path d=\"M18.56 5.44l.94 2.06.94-2.06 2.06-.94-2.06-.94-.94-2.06-.94 2.06-2.06.94zm-11 1L8.5 8.5l.94-2.06 2.06-.94-2.06-.94L8.5 2.5l-.94 2.06-2.06.94zm10 10l.94 2.06.94-2.06 2.06-.94-2.06-.94-.94-2.06-.94 2.06-2.06.94z\"/><path d=\"M17.41 7.96l-1.37-1.37c-.4-.4-.92-.59-1.43-.59-.52 0-1.04.2-1.43.59L10.3 9.45l-7.72 7.72c-.78.78-.78 2.05 0 2.83L4 21.41c.39.39.9.59 1.41.59.51 0 1.02-.2 1.41-.59l7.78-7.78 2.81-2.81c.8-.78.8-2.07 0-2.86zM5.41 20L4 18.59l7.72-7.72 1.47 1.35L5.41 20z\"/>\n",
              "  </svg>\n",
              "      </button>\n",
              "      \n",
              "  <style>\n",
              "    .colab-df-container {\n",
              "      display:flex;\n",
              "      flex-wrap:wrap;\n",
              "      gap: 12px;\n",
              "    }\n",
              "\n",
              "    .colab-df-convert {\n",
              "      background-color: #E8F0FE;\n",
              "      border: none;\n",
              "      border-radius: 50%;\n",
              "      cursor: pointer;\n",
              "      display: none;\n",
              "      fill: #1967D2;\n",
              "      height: 32px;\n",
              "      padding: 0 0 0 0;\n",
              "      width: 32px;\n",
              "    }\n",
              "\n",
              "    .colab-df-convert:hover {\n",
              "      background-color: #E2EBFA;\n",
              "      box-shadow: 0px 1px 2px rgba(60, 64, 67, 0.3), 0px 1px 3px 1px rgba(60, 64, 67, 0.15);\n",
              "      fill: #174EA6;\n",
              "    }\n",
              "\n",
              "    [theme=dark] .colab-df-convert {\n",
              "      background-color: #3B4455;\n",
              "      fill: #D2E3FC;\n",
              "    }\n",
              "\n",
              "    [theme=dark] .colab-df-convert:hover {\n",
              "      background-color: #434B5C;\n",
              "      box-shadow: 0px 1px 3px 1px rgba(0, 0, 0, 0.15);\n",
              "      filter: drop-shadow(0px 1px 2px rgba(0, 0, 0, 0.3));\n",
              "      fill: #FFFFFF;\n",
              "    }\n",
              "  </style>\n",
              "\n",
              "      <script>\n",
              "        const buttonEl =\n",
              "          document.querySelector('#df-51c47b60-b3e7-43ba-9d9c-72b6980485cf button.colab-df-convert');\n",
              "        buttonEl.style.display =\n",
              "          google.colab.kernel.accessAllowed ? 'block' : 'none';\n",
              "\n",
              "        async function convertToInteractive(key) {\n",
              "          const element = document.querySelector('#df-51c47b60-b3e7-43ba-9d9c-72b6980485cf');\n",
              "          const dataTable =\n",
              "            await google.colab.kernel.invokeFunction('convertToInteractive',\n",
              "                                                     [key], {});\n",
              "          if (!dataTable) return;\n",
              "\n",
              "          const docLinkHtml = 'Like what you see? Visit the ' +\n",
              "            '<a target=\"_blank\" href=https://colab.research.google.com/notebooks/data_table.ipynb>data table notebook</a>'\n",
              "            + ' to learn more about interactive tables.';\n",
              "          element.innerHTML = '';\n",
              "          dataTable['output_type'] = 'display_data';\n",
              "          await google.colab.output.renderOutput(dataTable, element);\n",
              "          const docLink = document.createElement('div');\n",
              "          docLink.innerHTML = docLinkHtml;\n",
              "          element.appendChild(docLink);\n",
              "        }\n",
              "      </script>\n",
              "    </div>\n",
              "  </div>\n",
              "  "
            ]
          },
          "metadata": {},
          "execution_count": 121
        }
      ],
      "source": [
        "customers_filtered_norm.head()"
      ]
    },
    {
      "cell_type": "code",
      "execution_count": 123,
      "metadata": {
        "colab": {
          "base_uri": "https://localhost:8080/",
          "height": 49,
          "referenced_widgets": [
            "c5701af7b06a4b61ba232bd86b9d69fd",
            "428ac9eca3094ecb8c6d5573b699df63",
            "5292c68185fc40dc8afcfd35e249840e",
            "2a089ae013fe44ef81294edc745f9e11",
            "1e143e445a8541e980f3cc7daec90f3e",
            "e9e51aaf6f8e4e09b468d3a33cff5b77",
            "16295c3795e24678a26f6f38cf70662e",
            "057a926a29e14182b0039da48269e5a8",
            "bec3d30e2d3f4365b48fbd525ba84c26",
            "bb4a92f67cf54b2fbe6e911a2b93a501",
            "6923c3e8d9634298be77400cfca908c2"
          ]
        },
        "id": "TQH4oDM69mhA",
        "outputId": "829ccb2a-1709-41f1-bd05-ae464e98a664"
      },
      "outputs": [
        {
          "output_type": "display_data",
          "data": {
            "text/plain": [
              "0it [00:00, ?it/s]"
            ],
            "application/vnd.jupyter.widget-view+json": {
              "version_major": 2,
              "version_minor": 0,
              "model_id": "c5701af7b06a4b61ba232bd86b9d69fd"
            }
          },
          "metadata": {}
        }
      ],
      "source": [
        "import itertools\n",
        "from scipy.stats.stats import pearsonr\n",
        "from tqdm.notebook import tqdm\n",
        "\n",
        "uu_uid = []\n",
        "uu_fid = []\n",
        "count = 0\n",
        "my_list = customers_filtered_norm.index\n",
        "for (a,b) in tqdm(itertools.combinations(my_list,2)):\n",
        "  count = count +1\n",
        "  try:\n",
        "    mysim = pearsonr(customers_filtered_norm.loc[a, :], customers_filtered_norm.loc[b, :])\n",
        "  except ValueError:\n",
        "    continue\n",
        "  if mysim[1] < 5e-5:\n",
        "    uu_uid.append(a)\n",
        "    uu_uid.append(b)\n",
        "    uu_fid.append(b)\n",
        "    uu_fid.append(a)\n",
        "  if count >300000:\n",
        "    break\n"
      ]
    },
    {
      "cell_type": "code",
      "execution_count": 124,
      "metadata": {
        "id": "rPtK0iqbCZUX"
      },
      "outputs": [],
      "source": [
        "\n",
        "uu_df = pd.DataFrame({'uid': uu_uid,\n",
        "                      'fid': uu_fid})"
      ]
    },
    {
      "cell_type": "code",
      "execution_count": 125,
      "metadata": {
        "colab": {
          "base_uri": "https://localhost:8080/"
        },
        "id": "2NNbneVOMiac",
        "outputId": "f8b9111a-827c-4c8a-99de-cc9338bf4587"
      },
      "outputs": [
        {
          "output_type": "execute_result",
          "data": {
            "text/plain": [
              "(7104, 2)"
            ]
          },
          "metadata": {},
          "execution_count": 125
        }
      ],
      "source": [
        "uu_df.shape"
      ]
    },
    {
      "cell_type": "code",
      "execution_count": 126,
      "metadata": {
        "colab": {
          "base_uri": "https://localhost:8080/",
          "height": 206
        },
        "id": "oV1lhXnzMkZi",
        "outputId": "8d1a6b14-402b-4e99-a747-7fa2287e74f4"
      },
      "outputs": [
        {
          "output_type": "execute_result",
          "data": {
            "text/plain": [
              "                                                 uid  \\\n",
              "0  00005ca1c9ed5f5146b52ac8639a40ca9d57aeff4d1bd2...   \n",
              "1  00051dc66eecbfd664831115062ef7d9798bed36b80c7c...   \n",
              "2  00005ca1c9ed5f5146b52ac8639a40ca9d57aeff4d1bd2...   \n",
              "3  0020bc07b12389473dc3d68ea9f79ad007ee56c24b67ce...   \n",
              "4  00005ca1c9ed5f5146b52ac8639a40ca9d57aeff4d1bd2...   \n",
              "\n",
              "                                                 fid  \n",
              "0  00051dc66eecbfd664831115062ef7d9798bed36b80c7c...  \n",
              "1  00005ca1c9ed5f5146b52ac8639a40ca9d57aeff4d1bd2...  \n",
              "2  0020bc07b12389473dc3d68ea9f79ad007ee56c24b67ce...  \n",
              "3  00005ca1c9ed5f5146b52ac8639a40ca9d57aeff4d1bd2...  \n",
              "4  002d2d9c17a41f5e63de988be891d1f1749f0ba82d502f...  "
            ],
            "text/html": [
              "\n",
              "  <div id=\"df-13fdc4b3-6aa1-4095-bf20-e88298ea0c06\">\n",
              "    <div class=\"colab-df-container\">\n",
              "      <div>\n",
              "<style scoped>\n",
              "    .dataframe tbody tr th:only-of-type {\n",
              "        vertical-align: middle;\n",
              "    }\n",
              "\n",
              "    .dataframe tbody tr th {\n",
              "        vertical-align: top;\n",
              "    }\n",
              "\n",
              "    .dataframe thead th {\n",
              "        text-align: right;\n",
              "    }\n",
              "</style>\n",
              "<table border=\"1\" class=\"dataframe\">\n",
              "  <thead>\n",
              "    <tr style=\"text-align: right;\">\n",
              "      <th></th>\n",
              "      <th>uid</th>\n",
              "      <th>fid</th>\n",
              "    </tr>\n",
              "  </thead>\n",
              "  <tbody>\n",
              "    <tr>\n",
              "      <th>0</th>\n",
              "      <td>00005ca1c9ed5f5146b52ac8639a40ca9d57aeff4d1bd2...</td>\n",
              "      <td>00051dc66eecbfd664831115062ef7d9798bed36b80c7c...</td>\n",
              "    </tr>\n",
              "    <tr>\n",
              "      <th>1</th>\n",
              "      <td>00051dc66eecbfd664831115062ef7d9798bed36b80c7c...</td>\n",
              "      <td>00005ca1c9ed5f5146b52ac8639a40ca9d57aeff4d1bd2...</td>\n",
              "    </tr>\n",
              "    <tr>\n",
              "      <th>2</th>\n",
              "      <td>00005ca1c9ed5f5146b52ac8639a40ca9d57aeff4d1bd2...</td>\n",
              "      <td>0020bc07b12389473dc3d68ea9f79ad007ee56c24b67ce...</td>\n",
              "    </tr>\n",
              "    <tr>\n",
              "      <th>3</th>\n",
              "      <td>0020bc07b12389473dc3d68ea9f79ad007ee56c24b67ce...</td>\n",
              "      <td>00005ca1c9ed5f5146b52ac8639a40ca9d57aeff4d1bd2...</td>\n",
              "    </tr>\n",
              "    <tr>\n",
              "      <th>4</th>\n",
              "      <td>00005ca1c9ed5f5146b52ac8639a40ca9d57aeff4d1bd2...</td>\n",
              "      <td>002d2d9c17a41f5e63de988be891d1f1749f0ba82d502f...</td>\n",
              "    </tr>\n",
              "  </tbody>\n",
              "</table>\n",
              "</div>\n",
              "      <button class=\"colab-df-convert\" onclick=\"convertToInteractive('df-13fdc4b3-6aa1-4095-bf20-e88298ea0c06')\"\n",
              "              title=\"Convert this dataframe to an interactive table.\"\n",
              "              style=\"display:none;\">\n",
              "        \n",
              "  <svg xmlns=\"http://www.w3.org/2000/svg\" height=\"24px\"viewBox=\"0 0 24 24\"\n",
              "       width=\"24px\">\n",
              "    <path d=\"M0 0h24v24H0V0z\" fill=\"none\"/>\n",
              "    <path d=\"M18.56 5.44l.94 2.06.94-2.06 2.06-.94-2.06-.94-.94-2.06-.94 2.06-2.06.94zm-11 1L8.5 8.5l.94-2.06 2.06-.94-2.06-.94L8.5 2.5l-.94 2.06-2.06.94zm10 10l.94 2.06.94-2.06 2.06-.94-2.06-.94-.94-2.06-.94 2.06-2.06.94z\"/><path d=\"M17.41 7.96l-1.37-1.37c-.4-.4-.92-.59-1.43-.59-.52 0-1.04.2-1.43.59L10.3 9.45l-7.72 7.72c-.78.78-.78 2.05 0 2.83L4 21.41c.39.39.9.59 1.41.59.51 0 1.02-.2 1.41-.59l7.78-7.78 2.81-2.81c.8-.78.8-2.07 0-2.86zM5.41 20L4 18.59l7.72-7.72 1.47 1.35L5.41 20z\"/>\n",
              "  </svg>\n",
              "      </button>\n",
              "      \n",
              "  <style>\n",
              "    .colab-df-container {\n",
              "      display:flex;\n",
              "      flex-wrap:wrap;\n",
              "      gap: 12px;\n",
              "    }\n",
              "\n",
              "    .colab-df-convert {\n",
              "      background-color: #E8F0FE;\n",
              "      border: none;\n",
              "      border-radius: 50%;\n",
              "      cursor: pointer;\n",
              "      display: none;\n",
              "      fill: #1967D2;\n",
              "      height: 32px;\n",
              "      padding: 0 0 0 0;\n",
              "      width: 32px;\n",
              "    }\n",
              "\n",
              "    .colab-df-convert:hover {\n",
              "      background-color: #E2EBFA;\n",
              "      box-shadow: 0px 1px 2px rgba(60, 64, 67, 0.3), 0px 1px 3px 1px rgba(60, 64, 67, 0.15);\n",
              "      fill: #174EA6;\n",
              "    }\n",
              "\n",
              "    [theme=dark] .colab-df-convert {\n",
              "      background-color: #3B4455;\n",
              "      fill: #D2E3FC;\n",
              "    }\n",
              "\n",
              "    [theme=dark] .colab-df-convert:hover {\n",
              "      background-color: #434B5C;\n",
              "      box-shadow: 0px 1px 3px 1px rgba(0, 0, 0, 0.15);\n",
              "      filter: drop-shadow(0px 1px 2px rgba(0, 0, 0, 0.3));\n",
              "      fill: #FFFFFF;\n",
              "    }\n",
              "  </style>\n",
              "\n",
              "      <script>\n",
              "        const buttonEl =\n",
              "          document.querySelector('#df-13fdc4b3-6aa1-4095-bf20-e88298ea0c06 button.colab-df-convert');\n",
              "        buttonEl.style.display =\n",
              "          google.colab.kernel.accessAllowed ? 'block' : 'none';\n",
              "\n",
              "        async function convertToInteractive(key) {\n",
              "          const element = document.querySelector('#df-13fdc4b3-6aa1-4095-bf20-e88298ea0c06');\n",
              "          const dataTable =\n",
              "            await google.colab.kernel.invokeFunction('convertToInteractive',\n",
              "                                                     [key], {});\n",
              "          if (!dataTable) return;\n",
              "\n",
              "          const docLinkHtml = 'Like what you see? Visit the ' +\n",
              "            '<a target=\"_blank\" href=https://colab.research.google.com/notebooks/data_table.ipynb>data table notebook</a>'\n",
              "            + ' to learn more about interactive tables.';\n",
              "          element.innerHTML = '';\n",
              "          dataTable['output_type'] = 'display_data';\n",
              "          await google.colab.output.renderOutput(dataTable, element);\n",
              "          const docLink = document.createElement('div');\n",
              "          docLink.innerHTML = docLinkHtml;\n",
              "          element.appendChild(docLink);\n",
              "        }\n",
              "      </script>\n",
              "    </div>\n",
              "  </div>\n",
              "  "
            ]
          },
          "metadata": {},
          "execution_count": 126
        }
      ],
      "source": [
        "uu_df.head()"
      ]
    },
    {
      "cell_type": "code",
      "execution_count": 127,
      "metadata": {
        "id": "w6ltvECrErAh"
      },
      "outputs": [],
      "source": [
        "uu_df.to_csv(fout_uu_df, index=False)"
      ]
    },
    {
      "cell_type": "markdown",
      "metadata": {
        "id": "drTIOyAY-est"
      },
      "source": [
        "### Split train, valid, test set"
      ]
    },
    {
      "cell_type": "code",
      "execution_count": 128,
      "metadata": {
        "id": "bb-RGW8E29t3"
      },
      "outputs": [],
      "source": [
        "# use numerically coded uids, iids\n",
        "transactions2 = pd.DataFrame({'uid': uids,\n",
        "                             'iid': iids,\n",
        "                            'label': transactions.sales_channel_id})"
      ]
    },
    {
      "cell_type": "code",
      "execution_count": 129,
      "metadata": {
        "colab": {
          "base_uri": "https://localhost:8080/"
        },
        "id": "C-Y1182wA51y",
        "outputId": "7b6f4d32-eb83-43db-fb03-d73271e9333c"
      },
      "outputs": [
        {
          "output_type": "stream",
          "name": "stdout",
          "text": [
            "No.of.unique values in each column :\n",
            " uid      471963\n",
            "iid       55717\n",
            "label         2\n",
            "dtype: int64\n"
          ]
        }
      ],
      "source": [
        "n_unique = transactions2.nunique(axis=0)\n",
        "  \n",
        "print(\"No.of.unique values in each column :\\n\",\n",
        "      n_unique)\n",
        "n_unique_df = pd.DataFrame({'user_count': [n_unique[0]],\n",
        "                            'item_count': [n_unique[1]],\n",
        "                            'purchase_count': [n_unique[2]]})\n",
        "n_unique_df.to_csv(fout_unique_counts, index=False)"
      ]
    },
    {
      "cell_type": "code",
      "execution_count": 130,
      "metadata": {
        "id": "F-c2Bj-J9O29"
      },
      "outputs": [],
      "source": [
        "del transactions\n",
        "del uids\n",
        "del iids"
      ]
    },
    {
      "cell_type": "code",
      "execution_count": 131,
      "metadata": {
        "id": "dWZYFPY23UqH"
      },
      "outputs": [],
      "source": [
        "seed = 123\n",
        "# downsample total filtered transaction to 10%, \n",
        "transactions2_sub, _ = train_test_split(transactions2, test_size=0.9, random_state=seed)\n",
        "# split the downsampled data as 80%, 10&, 10& for train, valid, test\n",
        "train, test_pre = train_test_split(transactions2_sub, test_size=0.2, random_state=seed)\n",
        "valid, test = train_test_split(test_pre, test_size=0.5, random_state=seed)"
      ]
    },
    {
      "cell_type": "code",
      "execution_count": 132,
      "metadata": {
        "colab": {
          "base_uri": "https://localhost:8080/"
        },
        "id": "GznrGUI9-OPd",
        "outputId": "e47d6366-1761-4a4a-b185-e758423457d3"
      },
      "outputs": [
        {
          "output_type": "stream",
          "name": "stdout",
          "text": [
            "(145165, 3) (18146, 3) (18146, 3)\n",
            "Train samples: 145165, Valid samples: 18146, Test samples: 18146\n"
          ]
        }
      ],
      "source": [
        "print(train.shape, valid.shape, test.shape)\n",
        "print('Train samples: {}, Valid samples: {}, Test samples: {}'.format(train.shape[0], valid.shape[0], test.shape[0]))"
      ]
    },
    {
      "cell_type": "code",
      "execution_count": 133,
      "metadata": {
        "id": "pgZ_MqlJ-Xoe"
      },
      "outputs": [],
      "source": [
        "train.to_csv(fout_gnn_train, index=False)\n",
        "valid.to_csv(fout_gnn_valid, index=False)\n",
        "test.to_csv(fout_gnn_test, index=False)"
      ]
    },
    {
      "cell_type": "code",
      "execution_count": 134,
      "metadata": {
        "id": "xZNEoKpPFIFR"
      },
      "outputs": [],
      "source": [
        "del train\n",
        "del valid\n",
        "del test"
      ]
    },
    {
      "cell_type": "code",
      "execution_count": 135,
      "metadata": {
        "colab": {
          "base_uri": "https://localhost:8080/"
        },
        "id": "5QAXYLsKFpiw",
        "outputId": "06718880-44a1-46bf-e197-7e3306ac8d55"
      },
      "outputs": [
        {
          "output_type": "execute_result",
          "data": {
            "text/plain": [
              "724"
            ]
          },
          "metadata": {},
          "execution_count": 135
        }
      ],
      "source": [
        "import gc\n",
        "gc.collect()"
      ]
    },
    {
      "cell_type": "markdown",
      "metadata": {
        "id": "DWYYpOvQmJJ2"
      },
      "source": [
        "### Load train set, get graph objects"
      ]
    },
    {
      "cell_type": "code",
      "execution_count": 136,
      "metadata": {
        "id": "bm9SA07a3Ij0"
      },
      "outputs": [],
      "source": [
        "import os\n",
        "from tqdm.notebook import tqdm\n",
        "\n",
        "mydir_g = \"/content/gdrive/MyDrive/DS4A_Capstone_local/cleaned_data_for_gnn\"\n",
        "\n",
        "f_gnn_train = mydir_g+'/gnn_train.csv'\n",
        "f_unique_counts = mydir_g+'/unique_counts.csv'\n",
        "\n",
        "# outputs\n",
        "fout_u_items_list = mydir_g+'/u_items_list.pkl'\n",
        "fout_i_users_list = mydir_g+'/i_users_list.pkl'\n",
        "fout_u_users_list = mydir_g+'/u_users_list.pkl'\n",
        "fout_u_users_items_list = mydir_g+'/u_users_items_list.pkl'"
      ]
    },
    {
      "cell_type": "code",
      "execution_count": 137,
      "metadata": {
        "id": "LhKFO4xF2Gw-"
      },
      "outputs": [],
      "source": [
        "def save_object(obj, filename):\n",
        "    with open(filename, 'wb') as outp:  # Overwrites any existing file.\n",
        "        pickle.dump(obj, outp, pickle.HIGHEST_PROTOCOL)\n",
        "\n",
        "def append_object(obj, filename):\n",
        "    with open(filename, 'ab') as outp:  # Overwrites any existing file.\n",
        "        pickle.dump(obj, outp, pickle.HIGHEST_PROTOCOL)"
      ]
    },
    {
      "cell_type": "code",
      "execution_count": 138,
      "metadata": {
        "id": "hnHkpHUqmd1q"
      },
      "outputs": [],
      "source": [
        "if os.path.getsize(f_gnn_train) > 0:      \n",
        "  train_df = pd.read_csv(f_gnn_train)\n",
        "else:\n",
        "  print(\"File not exist\")\n",
        "\n",
        "if os.path.getsize(f_unique_counts) > 0:      \n",
        "  counts_df = pd.read_csv(f_unique_counts)\n",
        "else:\n",
        "  print(\"File not exist\")"
      ]
    },
    {
      "cell_type": "code",
      "execution_count": 139,
      "metadata": {
        "colab": {
          "base_uri": "https://localhost:8080/",
          "height": 206
        },
        "id": "4_mLmIxfmocB",
        "outputId": "0e703a71-5db4-4003-b55e-a7dc1344ef4b"
      },
      "outputs": [
        {
          "output_type": "execute_result",
          "data": {
            "text/plain": [
              "      uid    iid  label\n",
              "0  459017  43635      2\n",
              "1  390337  16302      2\n",
              "2  384981  19376      1\n",
              "3  175318  40196      2\n",
              "4   91089   5277      1"
            ],
            "text/html": [
              "\n",
              "  <div id=\"df-f361b1c2-c745-4fbb-8f62-51c1aff2f092\">\n",
              "    <div class=\"colab-df-container\">\n",
              "      <div>\n",
              "<style scoped>\n",
              "    .dataframe tbody tr th:only-of-type {\n",
              "        vertical-align: middle;\n",
              "    }\n",
              "\n",
              "    .dataframe tbody tr th {\n",
              "        vertical-align: top;\n",
              "    }\n",
              "\n",
              "    .dataframe thead th {\n",
              "        text-align: right;\n",
              "    }\n",
              "</style>\n",
              "<table border=\"1\" class=\"dataframe\">\n",
              "  <thead>\n",
              "    <tr style=\"text-align: right;\">\n",
              "      <th></th>\n",
              "      <th>uid</th>\n",
              "      <th>iid</th>\n",
              "      <th>label</th>\n",
              "    </tr>\n",
              "  </thead>\n",
              "  <tbody>\n",
              "    <tr>\n",
              "      <th>0</th>\n",
              "      <td>459017</td>\n",
              "      <td>43635</td>\n",
              "      <td>2</td>\n",
              "    </tr>\n",
              "    <tr>\n",
              "      <th>1</th>\n",
              "      <td>390337</td>\n",
              "      <td>16302</td>\n",
              "      <td>2</td>\n",
              "    </tr>\n",
              "    <tr>\n",
              "      <th>2</th>\n",
              "      <td>384981</td>\n",
              "      <td>19376</td>\n",
              "      <td>1</td>\n",
              "    </tr>\n",
              "    <tr>\n",
              "      <th>3</th>\n",
              "      <td>175318</td>\n",
              "      <td>40196</td>\n",
              "      <td>2</td>\n",
              "    </tr>\n",
              "    <tr>\n",
              "      <th>4</th>\n",
              "      <td>91089</td>\n",
              "      <td>5277</td>\n",
              "      <td>1</td>\n",
              "    </tr>\n",
              "  </tbody>\n",
              "</table>\n",
              "</div>\n",
              "      <button class=\"colab-df-convert\" onclick=\"convertToInteractive('df-f361b1c2-c745-4fbb-8f62-51c1aff2f092')\"\n",
              "              title=\"Convert this dataframe to an interactive table.\"\n",
              "              style=\"display:none;\">\n",
              "        \n",
              "  <svg xmlns=\"http://www.w3.org/2000/svg\" height=\"24px\"viewBox=\"0 0 24 24\"\n",
              "       width=\"24px\">\n",
              "    <path d=\"M0 0h24v24H0V0z\" fill=\"none\"/>\n",
              "    <path d=\"M18.56 5.44l.94 2.06.94-2.06 2.06-.94-2.06-.94-.94-2.06-.94 2.06-2.06.94zm-11 1L8.5 8.5l.94-2.06 2.06-.94-2.06-.94L8.5 2.5l-.94 2.06-2.06.94zm10 10l.94 2.06.94-2.06 2.06-.94-2.06-.94-.94-2.06-.94 2.06-2.06.94z\"/><path d=\"M17.41 7.96l-1.37-1.37c-.4-.4-.92-.59-1.43-.59-.52 0-1.04.2-1.43.59L10.3 9.45l-7.72 7.72c-.78.78-.78 2.05 0 2.83L4 21.41c.39.39.9.59 1.41.59.51 0 1.02-.2 1.41-.59l7.78-7.78 2.81-2.81c.8-.78.8-2.07 0-2.86zM5.41 20L4 18.59l7.72-7.72 1.47 1.35L5.41 20z\"/>\n",
              "  </svg>\n",
              "      </button>\n",
              "      \n",
              "  <style>\n",
              "    .colab-df-container {\n",
              "      display:flex;\n",
              "      flex-wrap:wrap;\n",
              "      gap: 12px;\n",
              "    }\n",
              "\n",
              "    .colab-df-convert {\n",
              "      background-color: #E8F0FE;\n",
              "      border: none;\n",
              "      border-radius: 50%;\n",
              "      cursor: pointer;\n",
              "      display: none;\n",
              "      fill: #1967D2;\n",
              "      height: 32px;\n",
              "      padding: 0 0 0 0;\n",
              "      width: 32px;\n",
              "    }\n",
              "\n",
              "    .colab-df-convert:hover {\n",
              "      background-color: #E2EBFA;\n",
              "      box-shadow: 0px 1px 2px rgba(60, 64, 67, 0.3), 0px 1px 3px 1px rgba(60, 64, 67, 0.15);\n",
              "      fill: #174EA6;\n",
              "    }\n",
              "\n",
              "    [theme=dark] .colab-df-convert {\n",
              "      background-color: #3B4455;\n",
              "      fill: #D2E3FC;\n",
              "    }\n",
              "\n",
              "    [theme=dark] .colab-df-convert:hover {\n",
              "      background-color: #434B5C;\n",
              "      box-shadow: 0px 1px 3px 1px rgba(0, 0, 0, 0.15);\n",
              "      filter: drop-shadow(0px 1px 2px rgba(0, 0, 0, 0.3));\n",
              "      fill: #FFFFFF;\n",
              "    }\n",
              "  </style>\n",
              "\n",
              "      <script>\n",
              "        const buttonEl =\n",
              "          document.querySelector('#df-f361b1c2-c745-4fbb-8f62-51c1aff2f092 button.colab-df-convert');\n",
              "        buttonEl.style.display =\n",
              "          google.colab.kernel.accessAllowed ? 'block' : 'none';\n",
              "\n",
              "        async function convertToInteractive(key) {\n",
              "          const element = document.querySelector('#df-f361b1c2-c745-4fbb-8f62-51c1aff2f092');\n",
              "          const dataTable =\n",
              "            await google.colab.kernel.invokeFunction('convertToInteractive',\n",
              "                                                     [key], {});\n",
              "          if (!dataTable) return;\n",
              "\n",
              "          const docLinkHtml = 'Like what you see? Visit the ' +\n",
              "            '<a target=\"_blank\" href=https://colab.research.google.com/notebooks/data_table.ipynb>data table notebook</a>'\n",
              "            + ' to learn more about interactive tables.';\n",
              "          element.innerHTML = '';\n",
              "          dataTable['output_type'] = 'display_data';\n",
              "          await google.colab.output.renderOutput(dataTable, element);\n",
              "          const docLink = document.createElement('div');\n",
              "          docLink.innerHTML = docLinkHtml;\n",
              "          element.appendChild(docLink);\n",
              "        }\n",
              "      </script>\n",
              "    </div>\n",
              "  </div>\n",
              "  "
            ]
          },
          "metadata": {},
          "execution_count": 139
        }
      ],
      "source": [
        "train_df.head()"
      ]
    },
    {
      "cell_type": "code",
      "execution_count": 140,
      "metadata": {
        "colab": {
          "base_uri": "https://localhost:8080/",
          "height": 81
        },
        "id": "CJf0MBx5DMMr",
        "outputId": "24404a50-15b5-4e28-fcb2-928d069e7b1a"
      },
      "outputs": [
        {
          "output_type": "execute_result",
          "data": {
            "text/plain": [
              "   user_count  item_count  purchase_count\n",
              "0      471963       55717               2"
            ],
            "text/html": [
              "\n",
              "  <div id=\"df-3b11dbab-2182-4f6f-bd92-0a702ede028f\">\n",
              "    <div class=\"colab-df-container\">\n",
              "      <div>\n",
              "<style scoped>\n",
              "    .dataframe tbody tr th:only-of-type {\n",
              "        vertical-align: middle;\n",
              "    }\n",
              "\n",
              "    .dataframe tbody tr th {\n",
              "        vertical-align: top;\n",
              "    }\n",
              "\n",
              "    .dataframe thead th {\n",
              "        text-align: right;\n",
              "    }\n",
              "</style>\n",
              "<table border=\"1\" class=\"dataframe\">\n",
              "  <thead>\n",
              "    <tr style=\"text-align: right;\">\n",
              "      <th></th>\n",
              "      <th>user_count</th>\n",
              "      <th>item_count</th>\n",
              "      <th>purchase_count</th>\n",
              "    </tr>\n",
              "  </thead>\n",
              "  <tbody>\n",
              "    <tr>\n",
              "      <th>0</th>\n",
              "      <td>471963</td>\n",
              "      <td>55717</td>\n",
              "      <td>2</td>\n",
              "    </tr>\n",
              "  </tbody>\n",
              "</table>\n",
              "</div>\n",
              "      <button class=\"colab-df-convert\" onclick=\"convertToInteractive('df-3b11dbab-2182-4f6f-bd92-0a702ede028f')\"\n",
              "              title=\"Convert this dataframe to an interactive table.\"\n",
              "              style=\"display:none;\">\n",
              "        \n",
              "  <svg xmlns=\"http://www.w3.org/2000/svg\" height=\"24px\"viewBox=\"0 0 24 24\"\n",
              "       width=\"24px\">\n",
              "    <path d=\"M0 0h24v24H0V0z\" fill=\"none\"/>\n",
              "    <path d=\"M18.56 5.44l.94 2.06.94-2.06 2.06-.94-2.06-.94-.94-2.06-.94 2.06-2.06.94zm-11 1L8.5 8.5l.94-2.06 2.06-.94-2.06-.94L8.5 2.5l-.94 2.06-2.06.94zm10 10l.94 2.06.94-2.06 2.06-.94-2.06-.94-.94-2.06-.94 2.06-2.06.94z\"/><path d=\"M17.41 7.96l-1.37-1.37c-.4-.4-.92-.59-1.43-.59-.52 0-1.04.2-1.43.59L10.3 9.45l-7.72 7.72c-.78.78-.78 2.05 0 2.83L4 21.41c.39.39.9.59 1.41.59.51 0 1.02-.2 1.41-.59l7.78-7.78 2.81-2.81c.8-.78.8-2.07 0-2.86zM5.41 20L4 18.59l7.72-7.72 1.47 1.35L5.41 20z\"/>\n",
              "  </svg>\n",
              "      </button>\n",
              "      \n",
              "  <style>\n",
              "    .colab-df-container {\n",
              "      display:flex;\n",
              "      flex-wrap:wrap;\n",
              "      gap: 12px;\n",
              "    }\n",
              "\n",
              "    .colab-df-convert {\n",
              "      background-color: #E8F0FE;\n",
              "      border: none;\n",
              "      border-radius: 50%;\n",
              "      cursor: pointer;\n",
              "      display: none;\n",
              "      fill: #1967D2;\n",
              "      height: 32px;\n",
              "      padding: 0 0 0 0;\n",
              "      width: 32px;\n",
              "    }\n",
              "\n",
              "    .colab-df-convert:hover {\n",
              "      background-color: #E2EBFA;\n",
              "      box-shadow: 0px 1px 2px rgba(60, 64, 67, 0.3), 0px 1px 3px 1px rgba(60, 64, 67, 0.15);\n",
              "      fill: #174EA6;\n",
              "    }\n",
              "\n",
              "    [theme=dark] .colab-df-convert {\n",
              "      background-color: #3B4455;\n",
              "      fill: #D2E3FC;\n",
              "    }\n",
              "\n",
              "    [theme=dark] .colab-df-convert:hover {\n",
              "      background-color: #434B5C;\n",
              "      box-shadow: 0px 1px 3px 1px rgba(0, 0, 0, 0.15);\n",
              "      filter: drop-shadow(0px 1px 2px rgba(0, 0, 0, 0.3));\n",
              "      fill: #FFFFFF;\n",
              "    }\n",
              "  </style>\n",
              "\n",
              "      <script>\n",
              "        const buttonEl =\n",
              "          document.querySelector('#df-3b11dbab-2182-4f6f-bd92-0a702ede028f button.colab-df-convert');\n",
              "        buttonEl.style.display =\n",
              "          google.colab.kernel.accessAllowed ? 'block' : 'none';\n",
              "\n",
              "        async function convertToInteractive(key) {\n",
              "          const element = document.querySelector('#df-3b11dbab-2182-4f6f-bd92-0a702ede028f');\n",
              "          const dataTable =\n",
              "            await google.colab.kernel.invokeFunction('convertToInteractive',\n",
              "                                                     [key], {});\n",
              "          if (!dataTable) return;\n",
              "\n",
              "          const docLinkHtml = 'Like what you see? Visit the ' +\n",
              "            '<a target=\"_blank\" href=https://colab.research.google.com/notebooks/data_table.ipynb>data table notebook</a>'\n",
              "            + ' to learn more about interactive tables.';\n",
              "          element.innerHTML = '';\n",
              "          dataTable['output_type'] = 'display_data';\n",
              "          await google.colab.output.renderOutput(dataTable, element);\n",
              "          const docLink = document.createElement('div');\n",
              "          docLink.innerHTML = docLinkHtml;\n",
              "          element.appendChild(docLink);\n",
              "        }\n",
              "      </script>\n",
              "    </div>\n",
              "  </div>\n",
              "  "
            ]
          },
          "metadata": {},
          "execution_count": 140
        }
      ],
      "source": [
        "counts_df"
      ]
    },
    {
      "cell_type": "markdown",
      "metadata": {
        "id": "CbmQjX_AmKaQ"
      },
      "source": [
        "#### u_items_list"
      ]
    },
    {
      "cell_type": "code",
      "execution_count": 161,
      "metadata": {
        "id": "NWl1Av4bn8N6",
        "colab": {
          "base_uri": "https://localhost:8080/"
        },
        "outputId": "6324a84d-5848-4eac-d503-e162728f0d64"
      },
      "outputs": [
        {
          "output_type": "execute_result",
          "data": {
            "text/plain": [
              "[(28738, 2), (39276, 2)]"
            ]
          },
          "metadata": {},
          "execution_count": 161
        }
      ],
      "source": [
        "u_items_list[0]\n"
      ]
    },
    {
      "cell_type": "code",
      "execution_count": 142,
      "metadata": {
        "colab": {
          "base_uri": "https://localhost:8080/",
          "height": 49,
          "referenced_widgets": [
            "8a20282678384d58915a1eb5fcf1ea79",
            "f8bc6f5625f94c8d96d8cfbb4ca7f414",
            "cdbfcb9f0fbd4736a55a6af2bf86e77a",
            "a336da48e2c54cd0adc675eae66882d8",
            "4b4a2eb4c76742399ec8d238845ccc7b",
            "a7fb482df4ae4d95802b8a79170a8e8b",
            "da643c7832fc45c8aca83f15e7c35d9e",
            "59ca45d057004920a0ac7cce81c83714",
            "ae5c424ede9a4ea6bfa6866537542511",
            "15c77b6e0c904e47bf430558747cb7a3",
            "f1492eb649594a3980b5cb6bcd141b0a"
          ]
        },
        "id": "mBMsT_b5ubrN",
        "outputId": "15027349-be2f-451c-88f5-409db8e12a70"
      },
      "outputs": [
        {
          "output_type": "display_data",
          "data": {
            "text/plain": [
              "  0%|          | 0/126126 [00:00<?, ?it/s]"
            ],
            "application/vnd.jupyter.widget-view+json": {
              "version_major": 2,
              "version_minor": 0,
              "model_id": "8a20282678384d58915a1eb5fcf1ea79"
            }
          },
          "metadata": {}
        }
      ],
      "source": [
        "u_items_list = []\n",
        "# for user in tqdm(range(int(counts_df.user_count) + 1)):\n",
        "for user in tqdm(set(train_df.uid)):\n",
        "    user_df = train_df[train_df['uid'] == user]\n",
        "    user_items = user_df['iid'].tolist()\n",
        "    user_purchases = user_df['label'].tolist()\n",
        "    if len(user_items) == 0:\n",
        "        u_items_list.append([(0, 0)])\n",
        "    else:\n",
        "        u_items_list.append([(iid, purchase) for iid, purchase in zip(user_items, user_purchases)])"
      ]
    },
    {
      "cell_type": "code",
      "execution_count": 143,
      "metadata": {
        "id": "K7O-NgoSx4ER"
      },
      "outputs": [],
      "source": [
        "save_object(u_items_list, fout_u_items_list)"
      ]
    },
    {
      "cell_type": "code",
      "execution_count": 144,
      "metadata": {
        "id": "FZKf2waeufJZ"
      },
      "outputs": [],
      "source": [
        "# load object\n",
        "with open(fout_u_items_list, \"rb\") as f:\n",
        " u_items_list = pickle.load(f)"
      ]
    },
    {
      "cell_type": "markdown",
      "metadata": {
        "id": "nfoP96qNmnhA"
      },
      "source": [
        "#### i_users_list"
      ]
    },
    {
      "cell_type": "code",
      "execution_count": 162,
      "metadata": {
        "colab": {
          "base_uri": "https://localhost:8080/",
          "height": 49,
          "referenced_widgets": [
            "ea72c6c170764c279b1f54a00d571327",
            "f3185e2c5ec04cff873cdf9721147e9d",
            "a23bb40a56d7439086fcc2fcb55c2a3a",
            "ee1f8de61d4d4312bb690e3f645c04e3",
            "60685da27289491f9a038eee2c21c67f",
            "27385a68f445471598c1e726b51c9935",
            "2e7fdd32f2fd41faa41cccbfebb3e7a8",
            "b75c7b090cdf4f0fbee4324a2e9d2459",
            "8d477dd5371a42c68313fd2bd4f58442",
            "d099f791be1641c6b463a750840a30c0",
            "151971c070984f4cb871f104ad9b6488"
          ]
        },
        "id": "nvwm3B6DmmNb",
        "outputId": "43befdce-7720-49f1-d445-1b8e113b4696"
      },
      "outputs": [
        {
          "output_type": "display_data",
          "data": {
            "text/plain": [
              "  0%|          | 0/36222 [00:00<?, ?it/s]"
            ],
            "application/vnd.jupyter.widget-view+json": {
              "version_major": 2,
              "version_minor": 0,
              "model_id": "ea72c6c170764c279b1f54a00d571327"
            }
          },
          "metadata": {}
        }
      ],
      "source": [
        "i_users_list = []\n",
        "for item in tqdm(set(train_df.iid)):\n",
        "    item_df = train_df[train_df['iid'] == item]\n",
        "    item_users = item_df['uid'].tolist()\n",
        "    item_purchases = item_df['label'].tolist()\n",
        "    if len(item_users) == 0:\n",
        "        i_users_list.append([(0, 0)])\n",
        "    else:\n",
        "        i_users_list.append([(uid, purchase) for uid, purchase in zip(item_users, item_purchases)])"
      ]
    },
    {
      "cell_type": "code",
      "execution_count": 163,
      "metadata": {
        "colab": {
          "base_uri": "https://localhost:8080/"
        },
        "id": "badH38SIxusA",
        "outputId": "34a97fc3-55d2-43c9-cc0d-0c76f886095f"
      },
      "outputs": [
        {
          "output_type": "stream",
          "name": "stdout",
          "text": [
            "/content/gdrive/MyDrive/DS4A_Capstone_local/cleaned_data_for_gnn/i_users_list.pkl\n"
          ]
        }
      ],
      "source": [
        "save_object(i_users_list, fout_i_users_list)\n",
        "print(fout_i_users_list)"
      ]
    },
    {
      "cell_type": "code",
      "execution_count": 164,
      "metadata": {
        "id": "eI-hkBsZyC-e"
      },
      "outputs": [],
      "source": [
        "# load object\n",
        "with open(fout_i_users_list, \"rb\") as f:\n",
        "  i_users_list = pickle.load(f)"
      ]
    },
    {
      "cell_type": "code",
      "source": [
        "len(i_users_list)"
      ],
      "metadata": {
        "colab": {
          "base_uri": "https://localhost:8080/"
        },
        "id": "NtzIOeeJ4wyx",
        "outputId": "65dccfc2-87e0-4a54-f932-cbfd3527e154"
      },
      "execution_count": 166,
      "outputs": [
        {
          "output_type": "execute_result",
          "data": {
            "text/plain": [
              "36222"
            ]
          },
          "metadata": {},
          "execution_count": 166
        }
      ]
    },
    {
      "cell_type": "markdown",
      "metadata": {
        "id": "5PvTZzxUr2aR"
      },
      "source": [
        "#### u_users_x"
      ]
    },
    {
      "cell_type": "code",
      "execution_count": 167,
      "metadata": {
        "colab": {
          "base_uri": "https://localhost:8080/",
          "height": 49,
          "referenced_widgets": [
            "55bef8967e64464da42a882da4b009f4",
            "84912114b0fd469cb063d861bd5544e0",
            "304751337ae84920b791108dd1b3f053",
            "4a08d15f98104077bc2fb38d5d3a77bd",
            "1f5c68b11feb491cbed89037820b786a",
            "e2c85fd979fa4540aca5a7a57751bb53",
            "b4c2b918332b42d28b6d97e514b34b59",
            "899c55a84aac43da941cd7d13e82dd7c",
            "13944d7b5ef7424d848a947f4e7674ff",
            "0cd3ab164e20488e82e407cbeb5a7aad",
            "1781dd47a5ac40e4be5d5135ab63c8ca"
          ]
        },
        "id": "34mb1TcryWsO",
        "outputId": "4e970c23-5967-4d7a-c41d-6550f829f373"
      },
      "outputs": [
        {
          "output_type": "display_data",
          "data": {
            "text/plain": [
              "  0%|          | 0/126126 [00:00<?, ?it/s]"
            ],
            "application/vnd.jupyter.widget-view+json": {
              "version_major": 2,
              "version_minor": 0,
              "model_id": "55bef8967e64464da42a882da4b009f4"
            }
          },
          "metadata": {}
        }
      ],
      "source": [
        "u_users_list = []\n",
        "u_users_items_list = []\n",
        "for user in tqdm(set(train_df.uid)):\n",
        "    user_df = uu_df[uu_df['uid'] == user]\n",
        "    u_users = user_df['fid'].unique().tolist()\n",
        "    if len(u_users) == 0:\n",
        "        u_users_list.append([0])\n",
        "        u_users_items_list.append([[(0, 0)]])\n",
        "    else:\n",
        "        u_users_list.append(u_users)\n",
        "        uu_items = []\n",
        "        for uid in u_users:\n",
        "            uu_items.append(u_items_list[uid])\n",
        "        u_users_items_list.append(uu_items)"
      ]
    },
    {
      "cell_type": "code",
      "execution_count": 168,
      "metadata": {
        "id": "8WTtR7VwNWaU",
        "colab": {
          "base_uri": "https://localhost:8080/"
        },
        "outputId": "ca586c20-0544-4f7e-c57b-5b7ee2b69586"
      },
      "outputs": [
        {
          "output_type": "stream",
          "name": "stdout",
          "text": [
            "/content/gdrive/MyDrive/DS4A_Capstone_local/cleaned_data_for_gnn/u_users_list.pkl\n",
            "/content/gdrive/MyDrive/DS4A_Capstone_local/cleaned_data_for_gnn/u_users_items_list.pkl\n"
          ]
        }
      ],
      "source": [
        "save_object(u_users_list, fout_u_users_list)\n",
        "print(fout_u_users_list)\n",
        "\n",
        "save_object(u_users_items_list, fout_u_users_items_list)\n",
        "print(fout_u_users_items_list)"
      ]
    },
    {
      "cell_type": "code",
      "source": [
        ""
      ],
      "metadata": {
        "id": "Lxn2EcZJ5AMh"
      },
      "execution_count": null,
      "outputs": []
    }
  ],
  "metadata": {
    "colab": {
      "collapsed_sections": [],
      "name": "EDA_eda-n-cleaning-for-gnn_YZ.ipynb",
      "toc_visible": true,
      "provenance": []
    },
    "gpuClass": "standard",
    "kernelspec": {
      "display_name": "Python 3",
      "name": "python3"
    },
    "language_info": {
      "name": "python"
    },
    "widgets": {
      "application/vnd.jupyter.widget-state+json": {
        "c5701af7b06a4b61ba232bd86b9d69fd": {
          "model_module": "@jupyter-widgets/controls",
          "model_name": "HBoxModel",
          "model_module_version": "1.5.0",
          "state": {
            "_dom_classes": [],
            "_model_module": "@jupyter-widgets/controls",
            "_model_module_version": "1.5.0",
            "_model_name": "HBoxModel",
            "_view_count": null,
            "_view_module": "@jupyter-widgets/controls",
            "_view_module_version": "1.5.0",
            "_view_name": "HBoxView",
            "box_style": "",
            "children": [
              "IPY_MODEL_428ac9eca3094ecb8c6d5573b699df63",
              "IPY_MODEL_5292c68185fc40dc8afcfd35e249840e",
              "IPY_MODEL_2a089ae013fe44ef81294edc745f9e11"
            ],
            "layout": "IPY_MODEL_1e143e445a8541e980f3cc7daec90f3e"
          }
        },
        "428ac9eca3094ecb8c6d5573b699df63": {
          "model_module": "@jupyter-widgets/controls",
          "model_name": "HTMLModel",
          "model_module_version": "1.5.0",
          "state": {
            "_dom_classes": [],
            "_model_module": "@jupyter-widgets/controls",
            "_model_module_version": "1.5.0",
            "_model_name": "HTMLModel",
            "_view_count": null,
            "_view_module": "@jupyter-widgets/controls",
            "_view_module_version": "1.5.0",
            "_view_name": "HTMLView",
            "description": "",
            "description_tooltip": null,
            "layout": "IPY_MODEL_e9e51aaf6f8e4e09b468d3a33cff5b77",
            "placeholder": "​",
            "style": "IPY_MODEL_16295c3795e24678a26f6f38cf70662e",
            "value": ""
          }
        },
        "5292c68185fc40dc8afcfd35e249840e": {
          "model_module": "@jupyter-widgets/controls",
          "model_name": "FloatProgressModel",
          "model_module_version": "1.5.0",
          "state": {
            "_dom_classes": [],
            "_model_module": "@jupyter-widgets/controls",
            "_model_module_version": "1.5.0",
            "_model_name": "FloatProgressModel",
            "_view_count": null,
            "_view_module": "@jupyter-widgets/controls",
            "_view_module_version": "1.5.0",
            "_view_name": "ProgressView",
            "bar_style": "danger",
            "description": "",
            "description_tooltip": null,
            "layout": "IPY_MODEL_057a926a29e14182b0039da48269e5a8",
            "max": 1,
            "min": 0,
            "orientation": "horizontal",
            "style": "IPY_MODEL_bec3d30e2d3f4365b48fbd525ba84c26",
            "value": 1
          }
        },
        "2a089ae013fe44ef81294edc745f9e11": {
          "model_module": "@jupyter-widgets/controls",
          "model_name": "HTMLModel",
          "model_module_version": "1.5.0",
          "state": {
            "_dom_classes": [],
            "_model_module": "@jupyter-widgets/controls",
            "_model_module_version": "1.5.0",
            "_model_name": "HTMLModel",
            "_view_count": null,
            "_view_module": "@jupyter-widgets/controls",
            "_view_module_version": "1.5.0",
            "_view_name": "HTMLView",
            "description": "",
            "description_tooltip": null,
            "layout": "IPY_MODEL_bb4a92f67cf54b2fbe6e911a2b93a501",
            "placeholder": "​",
            "style": "IPY_MODEL_6923c3e8d9634298be77400cfca908c2",
            "value": " 300000/? [02:01&lt;00:00, 2254.35it/s]"
          }
        },
        "1e143e445a8541e980f3cc7daec90f3e": {
          "model_module": "@jupyter-widgets/base",
          "model_name": "LayoutModel",
          "model_module_version": "1.2.0",
          "state": {
            "_model_module": "@jupyter-widgets/base",
            "_model_module_version": "1.2.0",
            "_model_name": "LayoutModel",
            "_view_count": null,
            "_view_module": "@jupyter-widgets/base",
            "_view_module_version": "1.2.0",
            "_view_name": "LayoutView",
            "align_content": null,
            "align_items": null,
            "align_self": null,
            "border": null,
            "bottom": null,
            "display": null,
            "flex": null,
            "flex_flow": null,
            "grid_area": null,
            "grid_auto_columns": null,
            "grid_auto_flow": null,
            "grid_auto_rows": null,
            "grid_column": null,
            "grid_gap": null,
            "grid_row": null,
            "grid_template_areas": null,
            "grid_template_columns": null,
            "grid_template_rows": null,
            "height": null,
            "justify_content": null,
            "justify_items": null,
            "left": null,
            "margin": null,
            "max_height": null,
            "max_width": null,
            "min_height": null,
            "min_width": null,
            "object_fit": null,
            "object_position": null,
            "order": null,
            "overflow": null,
            "overflow_x": null,
            "overflow_y": null,
            "padding": null,
            "right": null,
            "top": null,
            "visibility": null,
            "width": null
          }
        },
        "e9e51aaf6f8e4e09b468d3a33cff5b77": {
          "model_module": "@jupyter-widgets/base",
          "model_name": "LayoutModel",
          "model_module_version": "1.2.0",
          "state": {
            "_model_module": "@jupyter-widgets/base",
            "_model_module_version": "1.2.0",
            "_model_name": "LayoutModel",
            "_view_count": null,
            "_view_module": "@jupyter-widgets/base",
            "_view_module_version": "1.2.0",
            "_view_name": "LayoutView",
            "align_content": null,
            "align_items": null,
            "align_self": null,
            "border": null,
            "bottom": null,
            "display": null,
            "flex": null,
            "flex_flow": null,
            "grid_area": null,
            "grid_auto_columns": null,
            "grid_auto_flow": null,
            "grid_auto_rows": null,
            "grid_column": null,
            "grid_gap": null,
            "grid_row": null,
            "grid_template_areas": null,
            "grid_template_columns": null,
            "grid_template_rows": null,
            "height": null,
            "justify_content": null,
            "justify_items": null,
            "left": null,
            "margin": null,
            "max_height": null,
            "max_width": null,
            "min_height": null,
            "min_width": null,
            "object_fit": null,
            "object_position": null,
            "order": null,
            "overflow": null,
            "overflow_x": null,
            "overflow_y": null,
            "padding": null,
            "right": null,
            "top": null,
            "visibility": null,
            "width": null
          }
        },
        "16295c3795e24678a26f6f38cf70662e": {
          "model_module": "@jupyter-widgets/controls",
          "model_name": "DescriptionStyleModel",
          "model_module_version": "1.5.0",
          "state": {
            "_model_module": "@jupyter-widgets/controls",
            "_model_module_version": "1.5.0",
            "_model_name": "DescriptionStyleModel",
            "_view_count": null,
            "_view_module": "@jupyter-widgets/base",
            "_view_module_version": "1.2.0",
            "_view_name": "StyleView",
            "description_width": ""
          }
        },
        "057a926a29e14182b0039da48269e5a8": {
          "model_module": "@jupyter-widgets/base",
          "model_name": "LayoutModel",
          "model_module_version": "1.2.0",
          "state": {
            "_model_module": "@jupyter-widgets/base",
            "_model_module_version": "1.2.0",
            "_model_name": "LayoutModel",
            "_view_count": null,
            "_view_module": "@jupyter-widgets/base",
            "_view_module_version": "1.2.0",
            "_view_name": "LayoutView",
            "align_content": null,
            "align_items": null,
            "align_self": null,
            "border": null,
            "bottom": null,
            "display": null,
            "flex": null,
            "flex_flow": null,
            "grid_area": null,
            "grid_auto_columns": null,
            "grid_auto_flow": null,
            "grid_auto_rows": null,
            "grid_column": null,
            "grid_gap": null,
            "grid_row": null,
            "grid_template_areas": null,
            "grid_template_columns": null,
            "grid_template_rows": null,
            "height": null,
            "justify_content": null,
            "justify_items": null,
            "left": null,
            "margin": null,
            "max_height": null,
            "max_width": null,
            "min_height": null,
            "min_width": null,
            "object_fit": null,
            "object_position": null,
            "order": null,
            "overflow": null,
            "overflow_x": null,
            "overflow_y": null,
            "padding": null,
            "right": null,
            "top": null,
            "visibility": null,
            "width": "20px"
          }
        },
        "bec3d30e2d3f4365b48fbd525ba84c26": {
          "model_module": "@jupyter-widgets/controls",
          "model_name": "ProgressStyleModel",
          "model_module_version": "1.5.0",
          "state": {
            "_model_module": "@jupyter-widgets/controls",
            "_model_module_version": "1.5.0",
            "_model_name": "ProgressStyleModel",
            "_view_count": null,
            "_view_module": "@jupyter-widgets/base",
            "_view_module_version": "1.2.0",
            "_view_name": "StyleView",
            "bar_color": null,
            "description_width": ""
          }
        },
        "bb4a92f67cf54b2fbe6e911a2b93a501": {
          "model_module": "@jupyter-widgets/base",
          "model_name": "LayoutModel",
          "model_module_version": "1.2.0",
          "state": {
            "_model_module": "@jupyter-widgets/base",
            "_model_module_version": "1.2.0",
            "_model_name": "LayoutModel",
            "_view_count": null,
            "_view_module": "@jupyter-widgets/base",
            "_view_module_version": "1.2.0",
            "_view_name": "LayoutView",
            "align_content": null,
            "align_items": null,
            "align_self": null,
            "border": null,
            "bottom": null,
            "display": null,
            "flex": null,
            "flex_flow": null,
            "grid_area": null,
            "grid_auto_columns": null,
            "grid_auto_flow": null,
            "grid_auto_rows": null,
            "grid_column": null,
            "grid_gap": null,
            "grid_row": null,
            "grid_template_areas": null,
            "grid_template_columns": null,
            "grid_template_rows": null,
            "height": null,
            "justify_content": null,
            "justify_items": null,
            "left": null,
            "margin": null,
            "max_height": null,
            "max_width": null,
            "min_height": null,
            "min_width": null,
            "object_fit": null,
            "object_position": null,
            "order": null,
            "overflow": null,
            "overflow_x": null,
            "overflow_y": null,
            "padding": null,
            "right": null,
            "top": null,
            "visibility": null,
            "width": null
          }
        },
        "6923c3e8d9634298be77400cfca908c2": {
          "model_module": "@jupyter-widgets/controls",
          "model_name": "DescriptionStyleModel",
          "model_module_version": "1.5.0",
          "state": {
            "_model_module": "@jupyter-widgets/controls",
            "_model_module_version": "1.5.0",
            "_model_name": "DescriptionStyleModel",
            "_view_count": null,
            "_view_module": "@jupyter-widgets/base",
            "_view_module_version": "1.2.0",
            "_view_name": "StyleView",
            "description_width": ""
          }
        },
        "8a20282678384d58915a1eb5fcf1ea79": {
          "model_module": "@jupyter-widgets/controls",
          "model_name": "HBoxModel",
          "model_module_version": "1.5.0",
          "state": {
            "_dom_classes": [],
            "_model_module": "@jupyter-widgets/controls",
            "_model_module_version": "1.5.0",
            "_model_name": "HBoxModel",
            "_view_count": null,
            "_view_module": "@jupyter-widgets/controls",
            "_view_module_version": "1.5.0",
            "_view_name": "HBoxView",
            "box_style": "",
            "children": [
              "IPY_MODEL_f8bc6f5625f94c8d96d8cfbb4ca7f414",
              "IPY_MODEL_cdbfcb9f0fbd4736a55a6af2bf86e77a",
              "IPY_MODEL_a336da48e2c54cd0adc675eae66882d8"
            ],
            "layout": "IPY_MODEL_4b4a2eb4c76742399ec8d238845ccc7b"
          }
        },
        "f8bc6f5625f94c8d96d8cfbb4ca7f414": {
          "model_module": "@jupyter-widgets/controls",
          "model_name": "HTMLModel",
          "model_module_version": "1.5.0",
          "state": {
            "_dom_classes": [],
            "_model_module": "@jupyter-widgets/controls",
            "_model_module_version": "1.5.0",
            "_model_name": "HTMLModel",
            "_view_count": null,
            "_view_module": "@jupyter-widgets/controls",
            "_view_module_version": "1.5.0",
            "_view_name": "HTMLView",
            "description": "",
            "description_tooltip": null,
            "layout": "IPY_MODEL_a7fb482df4ae4d95802b8a79170a8e8b",
            "placeholder": "​",
            "style": "IPY_MODEL_da643c7832fc45c8aca83f15e7c35d9e",
            "value": "100%"
          }
        },
        "cdbfcb9f0fbd4736a55a6af2bf86e77a": {
          "model_module": "@jupyter-widgets/controls",
          "model_name": "FloatProgressModel",
          "model_module_version": "1.5.0",
          "state": {
            "_dom_classes": [],
            "_model_module": "@jupyter-widgets/controls",
            "_model_module_version": "1.5.0",
            "_model_name": "FloatProgressModel",
            "_view_count": null,
            "_view_module": "@jupyter-widgets/controls",
            "_view_module_version": "1.5.0",
            "_view_name": "ProgressView",
            "bar_style": "success",
            "description": "",
            "description_tooltip": null,
            "layout": "IPY_MODEL_59ca45d057004920a0ac7cce81c83714",
            "max": 126126,
            "min": 0,
            "orientation": "horizontal",
            "style": "IPY_MODEL_ae5c424ede9a4ea6bfa6866537542511",
            "value": 126126
          }
        },
        "a336da48e2c54cd0adc675eae66882d8": {
          "model_module": "@jupyter-widgets/controls",
          "model_name": "HTMLModel",
          "model_module_version": "1.5.0",
          "state": {
            "_dom_classes": [],
            "_model_module": "@jupyter-widgets/controls",
            "_model_module_version": "1.5.0",
            "_model_name": "HTMLModel",
            "_view_count": null,
            "_view_module": "@jupyter-widgets/controls",
            "_view_module_version": "1.5.0",
            "_view_name": "HTMLView",
            "description": "",
            "description_tooltip": null,
            "layout": "IPY_MODEL_15c77b6e0c904e47bf430558747cb7a3",
            "placeholder": "​",
            "style": "IPY_MODEL_f1492eb649594a3980b5cb6bcd141b0a",
            "value": " 126126/126126 [01:24&lt;00:00, 1513.45it/s]"
          }
        },
        "4b4a2eb4c76742399ec8d238845ccc7b": {
          "model_module": "@jupyter-widgets/base",
          "model_name": "LayoutModel",
          "model_module_version": "1.2.0",
          "state": {
            "_model_module": "@jupyter-widgets/base",
            "_model_module_version": "1.2.0",
            "_model_name": "LayoutModel",
            "_view_count": null,
            "_view_module": "@jupyter-widgets/base",
            "_view_module_version": "1.2.0",
            "_view_name": "LayoutView",
            "align_content": null,
            "align_items": null,
            "align_self": null,
            "border": null,
            "bottom": null,
            "display": null,
            "flex": null,
            "flex_flow": null,
            "grid_area": null,
            "grid_auto_columns": null,
            "grid_auto_flow": null,
            "grid_auto_rows": null,
            "grid_column": null,
            "grid_gap": null,
            "grid_row": null,
            "grid_template_areas": null,
            "grid_template_columns": null,
            "grid_template_rows": null,
            "height": null,
            "justify_content": null,
            "justify_items": null,
            "left": null,
            "margin": null,
            "max_height": null,
            "max_width": null,
            "min_height": null,
            "min_width": null,
            "object_fit": null,
            "object_position": null,
            "order": null,
            "overflow": null,
            "overflow_x": null,
            "overflow_y": null,
            "padding": null,
            "right": null,
            "top": null,
            "visibility": null,
            "width": null
          }
        },
        "a7fb482df4ae4d95802b8a79170a8e8b": {
          "model_module": "@jupyter-widgets/base",
          "model_name": "LayoutModel",
          "model_module_version": "1.2.0",
          "state": {
            "_model_module": "@jupyter-widgets/base",
            "_model_module_version": "1.2.0",
            "_model_name": "LayoutModel",
            "_view_count": null,
            "_view_module": "@jupyter-widgets/base",
            "_view_module_version": "1.2.0",
            "_view_name": "LayoutView",
            "align_content": null,
            "align_items": null,
            "align_self": null,
            "border": null,
            "bottom": null,
            "display": null,
            "flex": null,
            "flex_flow": null,
            "grid_area": null,
            "grid_auto_columns": null,
            "grid_auto_flow": null,
            "grid_auto_rows": null,
            "grid_column": null,
            "grid_gap": null,
            "grid_row": null,
            "grid_template_areas": null,
            "grid_template_columns": null,
            "grid_template_rows": null,
            "height": null,
            "justify_content": null,
            "justify_items": null,
            "left": null,
            "margin": null,
            "max_height": null,
            "max_width": null,
            "min_height": null,
            "min_width": null,
            "object_fit": null,
            "object_position": null,
            "order": null,
            "overflow": null,
            "overflow_x": null,
            "overflow_y": null,
            "padding": null,
            "right": null,
            "top": null,
            "visibility": null,
            "width": null
          }
        },
        "da643c7832fc45c8aca83f15e7c35d9e": {
          "model_module": "@jupyter-widgets/controls",
          "model_name": "DescriptionStyleModel",
          "model_module_version": "1.5.0",
          "state": {
            "_model_module": "@jupyter-widgets/controls",
            "_model_module_version": "1.5.0",
            "_model_name": "DescriptionStyleModel",
            "_view_count": null,
            "_view_module": "@jupyter-widgets/base",
            "_view_module_version": "1.2.0",
            "_view_name": "StyleView",
            "description_width": ""
          }
        },
        "59ca45d057004920a0ac7cce81c83714": {
          "model_module": "@jupyter-widgets/base",
          "model_name": "LayoutModel",
          "model_module_version": "1.2.0",
          "state": {
            "_model_module": "@jupyter-widgets/base",
            "_model_module_version": "1.2.0",
            "_model_name": "LayoutModel",
            "_view_count": null,
            "_view_module": "@jupyter-widgets/base",
            "_view_module_version": "1.2.0",
            "_view_name": "LayoutView",
            "align_content": null,
            "align_items": null,
            "align_self": null,
            "border": null,
            "bottom": null,
            "display": null,
            "flex": null,
            "flex_flow": null,
            "grid_area": null,
            "grid_auto_columns": null,
            "grid_auto_flow": null,
            "grid_auto_rows": null,
            "grid_column": null,
            "grid_gap": null,
            "grid_row": null,
            "grid_template_areas": null,
            "grid_template_columns": null,
            "grid_template_rows": null,
            "height": null,
            "justify_content": null,
            "justify_items": null,
            "left": null,
            "margin": null,
            "max_height": null,
            "max_width": null,
            "min_height": null,
            "min_width": null,
            "object_fit": null,
            "object_position": null,
            "order": null,
            "overflow": null,
            "overflow_x": null,
            "overflow_y": null,
            "padding": null,
            "right": null,
            "top": null,
            "visibility": null,
            "width": null
          }
        },
        "ae5c424ede9a4ea6bfa6866537542511": {
          "model_module": "@jupyter-widgets/controls",
          "model_name": "ProgressStyleModel",
          "model_module_version": "1.5.0",
          "state": {
            "_model_module": "@jupyter-widgets/controls",
            "_model_module_version": "1.5.0",
            "_model_name": "ProgressStyleModel",
            "_view_count": null,
            "_view_module": "@jupyter-widgets/base",
            "_view_module_version": "1.2.0",
            "_view_name": "StyleView",
            "bar_color": null,
            "description_width": ""
          }
        },
        "15c77b6e0c904e47bf430558747cb7a3": {
          "model_module": "@jupyter-widgets/base",
          "model_name": "LayoutModel",
          "model_module_version": "1.2.0",
          "state": {
            "_model_module": "@jupyter-widgets/base",
            "_model_module_version": "1.2.0",
            "_model_name": "LayoutModel",
            "_view_count": null,
            "_view_module": "@jupyter-widgets/base",
            "_view_module_version": "1.2.0",
            "_view_name": "LayoutView",
            "align_content": null,
            "align_items": null,
            "align_self": null,
            "border": null,
            "bottom": null,
            "display": null,
            "flex": null,
            "flex_flow": null,
            "grid_area": null,
            "grid_auto_columns": null,
            "grid_auto_flow": null,
            "grid_auto_rows": null,
            "grid_column": null,
            "grid_gap": null,
            "grid_row": null,
            "grid_template_areas": null,
            "grid_template_columns": null,
            "grid_template_rows": null,
            "height": null,
            "justify_content": null,
            "justify_items": null,
            "left": null,
            "margin": null,
            "max_height": null,
            "max_width": null,
            "min_height": null,
            "min_width": null,
            "object_fit": null,
            "object_position": null,
            "order": null,
            "overflow": null,
            "overflow_x": null,
            "overflow_y": null,
            "padding": null,
            "right": null,
            "top": null,
            "visibility": null,
            "width": null
          }
        },
        "f1492eb649594a3980b5cb6bcd141b0a": {
          "model_module": "@jupyter-widgets/controls",
          "model_name": "DescriptionStyleModel",
          "model_module_version": "1.5.0",
          "state": {
            "_model_module": "@jupyter-widgets/controls",
            "_model_module_version": "1.5.0",
            "_model_name": "DescriptionStyleModel",
            "_view_count": null,
            "_view_module": "@jupyter-widgets/base",
            "_view_module_version": "1.2.0",
            "_view_name": "StyleView",
            "description_width": ""
          }
        },
        "ea72c6c170764c279b1f54a00d571327": {
          "model_module": "@jupyter-widgets/controls",
          "model_name": "HBoxModel",
          "model_module_version": "1.5.0",
          "state": {
            "_dom_classes": [],
            "_model_module": "@jupyter-widgets/controls",
            "_model_module_version": "1.5.0",
            "_model_name": "HBoxModel",
            "_view_count": null,
            "_view_module": "@jupyter-widgets/controls",
            "_view_module_version": "1.5.0",
            "_view_name": "HBoxView",
            "box_style": "",
            "children": [
              "IPY_MODEL_f3185e2c5ec04cff873cdf9721147e9d",
              "IPY_MODEL_a23bb40a56d7439086fcc2fcb55c2a3a",
              "IPY_MODEL_ee1f8de61d4d4312bb690e3f645c04e3"
            ],
            "layout": "IPY_MODEL_60685da27289491f9a038eee2c21c67f"
          }
        },
        "f3185e2c5ec04cff873cdf9721147e9d": {
          "model_module": "@jupyter-widgets/controls",
          "model_name": "HTMLModel",
          "model_module_version": "1.5.0",
          "state": {
            "_dom_classes": [],
            "_model_module": "@jupyter-widgets/controls",
            "_model_module_version": "1.5.0",
            "_model_name": "HTMLModel",
            "_view_count": null,
            "_view_module": "@jupyter-widgets/controls",
            "_view_module_version": "1.5.0",
            "_view_name": "HTMLView",
            "description": "",
            "description_tooltip": null,
            "layout": "IPY_MODEL_27385a68f445471598c1e726b51c9935",
            "placeholder": "​",
            "style": "IPY_MODEL_2e7fdd32f2fd41faa41cccbfebb3e7a8",
            "value": "100%"
          }
        },
        "a23bb40a56d7439086fcc2fcb55c2a3a": {
          "model_module": "@jupyter-widgets/controls",
          "model_name": "FloatProgressModel",
          "model_module_version": "1.5.0",
          "state": {
            "_dom_classes": [],
            "_model_module": "@jupyter-widgets/controls",
            "_model_module_version": "1.5.0",
            "_model_name": "FloatProgressModel",
            "_view_count": null,
            "_view_module": "@jupyter-widgets/controls",
            "_view_module_version": "1.5.0",
            "_view_name": "ProgressView",
            "bar_style": "success",
            "description": "",
            "description_tooltip": null,
            "layout": "IPY_MODEL_b75c7b090cdf4f0fbee4324a2e9d2459",
            "max": 36222,
            "min": 0,
            "orientation": "horizontal",
            "style": "IPY_MODEL_8d477dd5371a42c68313fd2bd4f58442",
            "value": 36222
          }
        },
        "ee1f8de61d4d4312bb690e3f645c04e3": {
          "model_module": "@jupyter-widgets/controls",
          "model_name": "HTMLModel",
          "model_module_version": "1.5.0",
          "state": {
            "_dom_classes": [],
            "_model_module": "@jupyter-widgets/controls",
            "_model_module_version": "1.5.0",
            "_model_name": "HTMLModel",
            "_view_count": null,
            "_view_module": "@jupyter-widgets/controls",
            "_view_module_version": "1.5.0",
            "_view_name": "HTMLView",
            "description": "",
            "description_tooltip": null,
            "layout": "IPY_MODEL_d099f791be1641c6b463a750840a30c0",
            "placeholder": "​",
            "style": "IPY_MODEL_151971c070984f4cb871f104ad9b6488",
            "value": " 36222/36222 [00:24&lt;00:00, 1343.17it/s]"
          }
        },
        "60685da27289491f9a038eee2c21c67f": {
          "model_module": "@jupyter-widgets/base",
          "model_name": "LayoutModel",
          "model_module_version": "1.2.0",
          "state": {
            "_model_module": "@jupyter-widgets/base",
            "_model_module_version": "1.2.0",
            "_model_name": "LayoutModel",
            "_view_count": null,
            "_view_module": "@jupyter-widgets/base",
            "_view_module_version": "1.2.0",
            "_view_name": "LayoutView",
            "align_content": null,
            "align_items": null,
            "align_self": null,
            "border": null,
            "bottom": null,
            "display": null,
            "flex": null,
            "flex_flow": null,
            "grid_area": null,
            "grid_auto_columns": null,
            "grid_auto_flow": null,
            "grid_auto_rows": null,
            "grid_column": null,
            "grid_gap": null,
            "grid_row": null,
            "grid_template_areas": null,
            "grid_template_columns": null,
            "grid_template_rows": null,
            "height": null,
            "justify_content": null,
            "justify_items": null,
            "left": null,
            "margin": null,
            "max_height": null,
            "max_width": null,
            "min_height": null,
            "min_width": null,
            "object_fit": null,
            "object_position": null,
            "order": null,
            "overflow": null,
            "overflow_x": null,
            "overflow_y": null,
            "padding": null,
            "right": null,
            "top": null,
            "visibility": null,
            "width": null
          }
        },
        "27385a68f445471598c1e726b51c9935": {
          "model_module": "@jupyter-widgets/base",
          "model_name": "LayoutModel",
          "model_module_version": "1.2.0",
          "state": {
            "_model_module": "@jupyter-widgets/base",
            "_model_module_version": "1.2.0",
            "_model_name": "LayoutModel",
            "_view_count": null,
            "_view_module": "@jupyter-widgets/base",
            "_view_module_version": "1.2.0",
            "_view_name": "LayoutView",
            "align_content": null,
            "align_items": null,
            "align_self": null,
            "border": null,
            "bottom": null,
            "display": null,
            "flex": null,
            "flex_flow": null,
            "grid_area": null,
            "grid_auto_columns": null,
            "grid_auto_flow": null,
            "grid_auto_rows": null,
            "grid_column": null,
            "grid_gap": null,
            "grid_row": null,
            "grid_template_areas": null,
            "grid_template_columns": null,
            "grid_template_rows": null,
            "height": null,
            "justify_content": null,
            "justify_items": null,
            "left": null,
            "margin": null,
            "max_height": null,
            "max_width": null,
            "min_height": null,
            "min_width": null,
            "object_fit": null,
            "object_position": null,
            "order": null,
            "overflow": null,
            "overflow_x": null,
            "overflow_y": null,
            "padding": null,
            "right": null,
            "top": null,
            "visibility": null,
            "width": null
          }
        },
        "2e7fdd32f2fd41faa41cccbfebb3e7a8": {
          "model_module": "@jupyter-widgets/controls",
          "model_name": "DescriptionStyleModel",
          "model_module_version": "1.5.0",
          "state": {
            "_model_module": "@jupyter-widgets/controls",
            "_model_module_version": "1.5.0",
            "_model_name": "DescriptionStyleModel",
            "_view_count": null,
            "_view_module": "@jupyter-widgets/base",
            "_view_module_version": "1.2.0",
            "_view_name": "StyleView",
            "description_width": ""
          }
        },
        "b75c7b090cdf4f0fbee4324a2e9d2459": {
          "model_module": "@jupyter-widgets/base",
          "model_name": "LayoutModel",
          "model_module_version": "1.2.0",
          "state": {
            "_model_module": "@jupyter-widgets/base",
            "_model_module_version": "1.2.0",
            "_model_name": "LayoutModel",
            "_view_count": null,
            "_view_module": "@jupyter-widgets/base",
            "_view_module_version": "1.2.0",
            "_view_name": "LayoutView",
            "align_content": null,
            "align_items": null,
            "align_self": null,
            "border": null,
            "bottom": null,
            "display": null,
            "flex": null,
            "flex_flow": null,
            "grid_area": null,
            "grid_auto_columns": null,
            "grid_auto_flow": null,
            "grid_auto_rows": null,
            "grid_column": null,
            "grid_gap": null,
            "grid_row": null,
            "grid_template_areas": null,
            "grid_template_columns": null,
            "grid_template_rows": null,
            "height": null,
            "justify_content": null,
            "justify_items": null,
            "left": null,
            "margin": null,
            "max_height": null,
            "max_width": null,
            "min_height": null,
            "min_width": null,
            "object_fit": null,
            "object_position": null,
            "order": null,
            "overflow": null,
            "overflow_x": null,
            "overflow_y": null,
            "padding": null,
            "right": null,
            "top": null,
            "visibility": null,
            "width": null
          }
        },
        "8d477dd5371a42c68313fd2bd4f58442": {
          "model_module": "@jupyter-widgets/controls",
          "model_name": "ProgressStyleModel",
          "model_module_version": "1.5.0",
          "state": {
            "_model_module": "@jupyter-widgets/controls",
            "_model_module_version": "1.5.0",
            "_model_name": "ProgressStyleModel",
            "_view_count": null,
            "_view_module": "@jupyter-widgets/base",
            "_view_module_version": "1.2.0",
            "_view_name": "StyleView",
            "bar_color": null,
            "description_width": ""
          }
        },
        "d099f791be1641c6b463a750840a30c0": {
          "model_module": "@jupyter-widgets/base",
          "model_name": "LayoutModel",
          "model_module_version": "1.2.0",
          "state": {
            "_model_module": "@jupyter-widgets/base",
            "_model_module_version": "1.2.0",
            "_model_name": "LayoutModel",
            "_view_count": null,
            "_view_module": "@jupyter-widgets/base",
            "_view_module_version": "1.2.0",
            "_view_name": "LayoutView",
            "align_content": null,
            "align_items": null,
            "align_self": null,
            "border": null,
            "bottom": null,
            "display": null,
            "flex": null,
            "flex_flow": null,
            "grid_area": null,
            "grid_auto_columns": null,
            "grid_auto_flow": null,
            "grid_auto_rows": null,
            "grid_column": null,
            "grid_gap": null,
            "grid_row": null,
            "grid_template_areas": null,
            "grid_template_columns": null,
            "grid_template_rows": null,
            "height": null,
            "justify_content": null,
            "justify_items": null,
            "left": null,
            "margin": null,
            "max_height": null,
            "max_width": null,
            "min_height": null,
            "min_width": null,
            "object_fit": null,
            "object_position": null,
            "order": null,
            "overflow": null,
            "overflow_x": null,
            "overflow_y": null,
            "padding": null,
            "right": null,
            "top": null,
            "visibility": null,
            "width": null
          }
        },
        "151971c070984f4cb871f104ad9b6488": {
          "model_module": "@jupyter-widgets/controls",
          "model_name": "DescriptionStyleModel",
          "model_module_version": "1.5.0",
          "state": {
            "_model_module": "@jupyter-widgets/controls",
            "_model_module_version": "1.5.0",
            "_model_name": "DescriptionStyleModel",
            "_view_count": null,
            "_view_module": "@jupyter-widgets/base",
            "_view_module_version": "1.2.0",
            "_view_name": "StyleView",
            "description_width": ""
          }
        },
        "55bef8967e64464da42a882da4b009f4": {
          "model_module": "@jupyter-widgets/controls",
          "model_name": "HBoxModel",
          "model_module_version": "1.5.0",
          "state": {
            "_dom_classes": [],
            "_model_module": "@jupyter-widgets/controls",
            "_model_module_version": "1.5.0",
            "_model_name": "HBoxModel",
            "_view_count": null,
            "_view_module": "@jupyter-widgets/controls",
            "_view_module_version": "1.5.0",
            "_view_name": "HBoxView",
            "box_style": "",
            "children": [
              "IPY_MODEL_84912114b0fd469cb063d861bd5544e0",
              "IPY_MODEL_304751337ae84920b791108dd1b3f053",
              "IPY_MODEL_4a08d15f98104077bc2fb38d5d3a77bd"
            ],
            "layout": "IPY_MODEL_1f5c68b11feb491cbed89037820b786a"
          }
        },
        "84912114b0fd469cb063d861bd5544e0": {
          "model_module": "@jupyter-widgets/controls",
          "model_name": "HTMLModel",
          "model_module_version": "1.5.0",
          "state": {
            "_dom_classes": [],
            "_model_module": "@jupyter-widgets/controls",
            "_model_module_version": "1.5.0",
            "_model_name": "HTMLModel",
            "_view_count": null,
            "_view_module": "@jupyter-widgets/controls",
            "_view_module_version": "1.5.0",
            "_view_name": "HTMLView",
            "description": "",
            "description_tooltip": null,
            "layout": "IPY_MODEL_e2c85fd979fa4540aca5a7a57751bb53",
            "placeholder": "​",
            "style": "IPY_MODEL_b4c2b918332b42d28b6d97e514b34b59",
            "value": "100%"
          }
        },
        "304751337ae84920b791108dd1b3f053": {
          "model_module": "@jupyter-widgets/controls",
          "model_name": "FloatProgressModel",
          "model_module_version": "1.5.0",
          "state": {
            "_dom_classes": [],
            "_model_module": "@jupyter-widgets/controls",
            "_model_module_version": "1.5.0",
            "_model_name": "FloatProgressModel",
            "_view_count": null,
            "_view_module": "@jupyter-widgets/controls",
            "_view_module_version": "1.5.0",
            "_view_name": "ProgressView",
            "bar_style": "success",
            "description": "",
            "description_tooltip": null,
            "layout": "IPY_MODEL_899c55a84aac43da941cd7d13e82dd7c",
            "max": 126126,
            "min": 0,
            "orientation": "horizontal",
            "style": "IPY_MODEL_13944d7b5ef7424d848a947f4e7674ff",
            "value": 126126
          }
        },
        "4a08d15f98104077bc2fb38d5d3a77bd": {
          "model_module": "@jupyter-widgets/controls",
          "model_name": "HTMLModel",
          "model_module_version": "1.5.0",
          "state": {
            "_dom_classes": [],
            "_model_module": "@jupyter-widgets/controls",
            "_model_module_version": "1.5.0",
            "_model_name": "HTMLModel",
            "_view_count": null,
            "_view_module": "@jupyter-widgets/controls",
            "_view_module_version": "1.5.0",
            "_view_name": "HTMLView",
            "description": "",
            "description_tooltip": null,
            "layout": "IPY_MODEL_0cd3ab164e20488e82e407cbeb5a7aad",
            "placeholder": "​",
            "style": "IPY_MODEL_1781dd47a5ac40e4be5d5135ab63c8ca",
            "value": " 126126/126126 [03:05&lt;00:00, 710.44it/s]"
          }
        },
        "1f5c68b11feb491cbed89037820b786a": {
          "model_module": "@jupyter-widgets/base",
          "model_name": "LayoutModel",
          "model_module_version": "1.2.0",
          "state": {
            "_model_module": "@jupyter-widgets/base",
            "_model_module_version": "1.2.0",
            "_model_name": "LayoutModel",
            "_view_count": null,
            "_view_module": "@jupyter-widgets/base",
            "_view_module_version": "1.2.0",
            "_view_name": "LayoutView",
            "align_content": null,
            "align_items": null,
            "align_self": null,
            "border": null,
            "bottom": null,
            "display": null,
            "flex": null,
            "flex_flow": null,
            "grid_area": null,
            "grid_auto_columns": null,
            "grid_auto_flow": null,
            "grid_auto_rows": null,
            "grid_column": null,
            "grid_gap": null,
            "grid_row": null,
            "grid_template_areas": null,
            "grid_template_columns": null,
            "grid_template_rows": null,
            "height": null,
            "justify_content": null,
            "justify_items": null,
            "left": null,
            "margin": null,
            "max_height": null,
            "max_width": null,
            "min_height": null,
            "min_width": null,
            "object_fit": null,
            "object_position": null,
            "order": null,
            "overflow": null,
            "overflow_x": null,
            "overflow_y": null,
            "padding": null,
            "right": null,
            "top": null,
            "visibility": null,
            "width": null
          }
        },
        "e2c85fd979fa4540aca5a7a57751bb53": {
          "model_module": "@jupyter-widgets/base",
          "model_name": "LayoutModel",
          "model_module_version": "1.2.0",
          "state": {
            "_model_module": "@jupyter-widgets/base",
            "_model_module_version": "1.2.0",
            "_model_name": "LayoutModel",
            "_view_count": null,
            "_view_module": "@jupyter-widgets/base",
            "_view_module_version": "1.2.0",
            "_view_name": "LayoutView",
            "align_content": null,
            "align_items": null,
            "align_self": null,
            "border": null,
            "bottom": null,
            "display": null,
            "flex": null,
            "flex_flow": null,
            "grid_area": null,
            "grid_auto_columns": null,
            "grid_auto_flow": null,
            "grid_auto_rows": null,
            "grid_column": null,
            "grid_gap": null,
            "grid_row": null,
            "grid_template_areas": null,
            "grid_template_columns": null,
            "grid_template_rows": null,
            "height": null,
            "justify_content": null,
            "justify_items": null,
            "left": null,
            "margin": null,
            "max_height": null,
            "max_width": null,
            "min_height": null,
            "min_width": null,
            "object_fit": null,
            "object_position": null,
            "order": null,
            "overflow": null,
            "overflow_x": null,
            "overflow_y": null,
            "padding": null,
            "right": null,
            "top": null,
            "visibility": null,
            "width": null
          }
        },
        "b4c2b918332b42d28b6d97e514b34b59": {
          "model_module": "@jupyter-widgets/controls",
          "model_name": "DescriptionStyleModel",
          "model_module_version": "1.5.0",
          "state": {
            "_model_module": "@jupyter-widgets/controls",
            "_model_module_version": "1.5.0",
            "_model_name": "DescriptionStyleModel",
            "_view_count": null,
            "_view_module": "@jupyter-widgets/base",
            "_view_module_version": "1.2.0",
            "_view_name": "StyleView",
            "description_width": ""
          }
        },
        "899c55a84aac43da941cd7d13e82dd7c": {
          "model_module": "@jupyter-widgets/base",
          "model_name": "LayoutModel",
          "model_module_version": "1.2.0",
          "state": {
            "_model_module": "@jupyter-widgets/base",
            "_model_module_version": "1.2.0",
            "_model_name": "LayoutModel",
            "_view_count": null,
            "_view_module": "@jupyter-widgets/base",
            "_view_module_version": "1.2.0",
            "_view_name": "LayoutView",
            "align_content": null,
            "align_items": null,
            "align_self": null,
            "border": null,
            "bottom": null,
            "display": null,
            "flex": null,
            "flex_flow": null,
            "grid_area": null,
            "grid_auto_columns": null,
            "grid_auto_flow": null,
            "grid_auto_rows": null,
            "grid_column": null,
            "grid_gap": null,
            "grid_row": null,
            "grid_template_areas": null,
            "grid_template_columns": null,
            "grid_template_rows": null,
            "height": null,
            "justify_content": null,
            "justify_items": null,
            "left": null,
            "margin": null,
            "max_height": null,
            "max_width": null,
            "min_height": null,
            "min_width": null,
            "object_fit": null,
            "object_position": null,
            "order": null,
            "overflow": null,
            "overflow_x": null,
            "overflow_y": null,
            "padding": null,
            "right": null,
            "top": null,
            "visibility": null,
            "width": null
          }
        },
        "13944d7b5ef7424d848a947f4e7674ff": {
          "model_module": "@jupyter-widgets/controls",
          "model_name": "ProgressStyleModel",
          "model_module_version": "1.5.0",
          "state": {
            "_model_module": "@jupyter-widgets/controls",
            "_model_module_version": "1.5.0",
            "_model_name": "ProgressStyleModel",
            "_view_count": null,
            "_view_module": "@jupyter-widgets/base",
            "_view_module_version": "1.2.0",
            "_view_name": "StyleView",
            "bar_color": null,
            "description_width": ""
          }
        },
        "0cd3ab164e20488e82e407cbeb5a7aad": {
          "model_module": "@jupyter-widgets/base",
          "model_name": "LayoutModel",
          "model_module_version": "1.2.0",
          "state": {
            "_model_module": "@jupyter-widgets/base",
            "_model_module_version": "1.2.0",
            "_model_name": "LayoutModel",
            "_view_count": null,
            "_view_module": "@jupyter-widgets/base",
            "_view_module_version": "1.2.0",
            "_view_name": "LayoutView",
            "align_content": null,
            "align_items": null,
            "align_self": null,
            "border": null,
            "bottom": null,
            "display": null,
            "flex": null,
            "flex_flow": null,
            "grid_area": null,
            "grid_auto_columns": null,
            "grid_auto_flow": null,
            "grid_auto_rows": null,
            "grid_column": null,
            "grid_gap": null,
            "grid_row": null,
            "grid_template_areas": null,
            "grid_template_columns": null,
            "grid_template_rows": null,
            "height": null,
            "justify_content": null,
            "justify_items": null,
            "left": null,
            "margin": null,
            "max_height": null,
            "max_width": null,
            "min_height": null,
            "min_width": null,
            "object_fit": null,
            "object_position": null,
            "order": null,
            "overflow": null,
            "overflow_x": null,
            "overflow_y": null,
            "padding": null,
            "right": null,
            "top": null,
            "visibility": null,
            "width": null
          }
        },
        "1781dd47a5ac40e4be5d5135ab63c8ca": {
          "model_module": "@jupyter-widgets/controls",
          "model_name": "DescriptionStyleModel",
          "model_module_version": "1.5.0",
          "state": {
            "_model_module": "@jupyter-widgets/controls",
            "_model_module_version": "1.5.0",
            "_model_name": "DescriptionStyleModel",
            "_view_count": null,
            "_view_module": "@jupyter-widgets/base",
            "_view_module_version": "1.2.0",
            "_view_name": "StyleView",
            "description_width": ""
          }
        }
      }
    }
  },
  "nbformat": 4,
  "nbformat_minor": 0
}